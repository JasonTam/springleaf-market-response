{
 "cells": [
  {
   "cell_type": "code",
   "execution_count": 1,
   "metadata": {
    "collapsed": true
   },
   "outputs": [],
   "source": [
    "import pandas as pd\n",
    "import xgboost as xgb\n",
    "import os\n",
    "import logging\n",
    "import time\n",
    "import cPickle as pickle\n",
    "import numpy as np\n",
    "\n",
    "# from IPython.utils.io import Tee\n",
    "# wtf = Tee('../logs/%s.log' % str(int(time.time())), 'w', channel='stderr')"
   ]
  },
  {
   "cell_type": "code",
   "execution_count": null,
   "metadata": {
    "collapsed": false
   },
   "outputs": [],
   "source": [
    "%%time\n",
    "PATH_STORE = '../saved/storage.h5'\n",
    "train_pd = pd.read_hdf(PATH_STORE, 'train')"
   ]
  },
  {
   "cell_type": "code",
   "execution_count": null,
   "metadata": {
    "collapsed": true
   },
   "outputs": [],
   "source": [
    "%%time\n",
    "# Out-of-memory\n",
    "PATH_LIBSVM = '/tmp/train.libsvm'\n",
    "PATH_CACHE = '/tmp/dtrain.cache'\n",
    "if os.path.exists(PATH_CACHE):\n",
    "    print 'Remove old cache @ %s' % PATH_CACHE\n",
    "    os.remove(PATH_CACHE)\n",
    "    os.remove(PATH_CACHE + '.row.blob')\n",
    "\n",
    "# dtrain = xgb.DMatrix('../saved/med.libsvm#%s' % PATH_CACHE)\n",
    "dtrain = xgb.DMatrix('%s#%s' % (PATH_LIBSVM, PATH_CACHE))"
   ]
  },
  {
   "cell_type": "code",
   "execution_count": 2,
   "metadata": {
    "collapsed": false
   },
   "outputs": [
    {
     "name": "stdout",
     "output_type": "stream",
     "text": [
      "CPU times: user 45.1 s, sys: 1.43 s, total: 46.5 s\n",
      "Wall time: 20 s\n"
     ]
    }
   ],
   "source": [
    "%%time\n",
    "# In-memory\n",
    "# PATH_LIBSVM = '/tmp/train.libsvm'\n",
    "PATH_LIBSVM = '/tmp/train_flagged.libsvm'\n",
    "dtrain = xgb.DMatrix(PATH_LIBSVM)"
   ]
  },
  {
   "cell_type": "code",
   "execution_count": 14,
   "metadata": {
    "collapsed": false
   },
   "outputs": [],
   "source": [
    "params = {}\n",
    "params['objective'] = \"binary:logistic\"\n",
    "params['eta'] = 0.01\n",
    "params['min_child_weight'] = 6\n",
    "params['subsample'] = 0.7\n",
    "params['colsample_bytree'] = 0.7\n",
    "params['max_delta_step'] = 1\n",
    "params['silent'] = 1\n",
    "params['max_depth'] = 9 #7\n",
    "params['eval_metric'] = 'auc'\n",
    "# params[\"scale_pos_weight\"] = 1.0\n",
    "params['gamma'] = 5\n",
    "params['alpha'] = 1\n",
    "# params['nthread'] = 4\n",
    "\n",
    "def fpreproc(dtrain, dtest, param):\n",
    "    label = dtrain.get_label()\n",
    "    ratio = float(np.sum(label == 0)) / np.sum(label==1)\n",
    "    param['scale_pos_weight'] = ratio\n",
    "    return (dtrain, dtest, param)\n",
    "\n",
    "plst = list(params.items())\n",
    "\n",
    "max_rounds = 7000\n"
   ]
  },
  {
   "cell_type": "markdown",
   "metadata": {},
   "source": [
    "normal feats: [4000] 0.790278\n",
    "\n",
    "numflag feats: [4940]\tcv-test-auc:0.790382+0.001484\tcv-train-auc:0.999978+0.000003"
   ]
  },
  {
   "cell_type": "code",
   "execution_count": null,
   "metadata": {
    "collapsed": false
   },
   "outputs": [],
   "source": [
    "%%time\n",
    "cv_log = xgb.cv(params, dtrain, max_rounds, nfold=3,\n",
    "                metrics={'auc'}, seed = 0,\n",
    "                fpreproc=fpreproc)\n",
    "\n",
    "pickle.dump((params, cv_log), open('../saved/cv_log_%d.p' % int(time.time()), 'wb'))"
   ]
  },
  {
   "cell_type": "code",
   "execution_count": 5,
   "metadata": {
    "collapsed": false
   },
   "outputs": [],
   "source": [
    "y = dtrain.get_label()"
   ]
  },
  {
   "cell_type": "code",
   "execution_count": 6,
   "metadata": {
    "collapsed": false
   },
   "outputs": [
    {
     "data": {
      "text/plain": [
       "Counter({0.0: 111415, 1.0: 33760})"
      ]
     },
     "execution_count": 6,
     "metadata": {},
     "output_type": "execute_result"
    }
   ],
   "source": [
    "from collections import Counter\n",
    "Counter(y)"
   ]
  },
  {
   "cell_type": "code",
   "execution_count": 12,
   "metadata": {
    "collapsed": false,
    "scrolled": false
   },
   "outputs": [
    {
     "name": "stdout",
     "output_type": "stream",
     "text": [
      "[4000]\tcv-test-auc:0.790285+0.001357\tcv-train-auc:0.999898+0.000003\n",
      "[4100]\tcv-test-auc:0.790348+0.001374\tcv-train-auc:0.999915+0.000001\n",
      "[4200]\tcv-test-auc:0.790372+0.001395\tcv-train-auc:0.999930+0.000001\n",
      "[4300]\tcv-test-auc:0.790378+0.001396\tcv-train-auc:0.999941+0.000001\n",
      "[4400]\tcv-test-auc:0.790408+0.001415\tcv-train-auc:0.999951+0.000001\n",
      "[4500]\tcv-test-auc:0.790441+0.001425\tcv-train-auc:0.999958+0.000001\n",
      "[4600]\tcv-test-auc:0.790460+0.001394\tcv-train-auc:0.999964+0.000000\n",
      "[4700]\tcv-test-auc:0.790479+0.001412\tcv-train-auc:0.999969+0.000000\n",
      "[4800]\tcv-test-auc:0.790457+0.001434\tcv-train-auc:0.999974+0.000001\n",
      "[4900]\tcv-test-auc:0.790447+0.001440\tcv-train-auc:0.999977+0.000001\n",
      "[5000]\tcv-test-auc:0.790485+0.001433\tcv-train-auc:0.999981+0.000001\n",
      "[5100]\tcv-test-auc:0.790490+0.001441\tcv-train-auc:0.999983+0.000001\n",
      "[5200]\tcv-test-auc:0.790487+0.001445\tcv-train-auc:0.999986+0.000001\n",
      "[5300]\tcv-test-auc:0.790517+0.001425\tcv-train-auc:0.999987+0.000001\n",
      "[5400]\tcv-test-auc:0.790537+0.001444\tcv-train-auc:0.999989+0.000001\n",
      "[5500]\tcv-test-auc:0.790539+0.001442\tcv-train-auc:0.999990+0.000001\n",
      "[5600]\tcv-test-auc:0.790547+0.001444\tcv-train-auc:0.999991+0.000001\n",
      "[5700]\tcv-test-auc:0.790556+0.001446\tcv-train-auc:0.999992+0.000001\n",
      "[5800]\tcv-test-auc:0.790567+0.001440\tcv-train-auc:0.999993+0.000001\n",
      "[5900]\tcv-test-auc:0.790558+0.001463\tcv-train-auc:0.999993+0.000000\n"
     ]
    }
   ],
   "source": [
    "for l in cv_log[-2000::100]:\n",
    "    print l"
   ]
  },
  {
   "cell_type": "markdown",
   "metadata": {},
   "source": [
    "# Train on whole set"
   ]
  },
  {
   "cell_type": "code",
   "execution_count": null,
   "metadata": {
    "collapsed": false
   },
   "outputs": [],
   "source": [
    "bst = xgb.train(params, dtrain, max_rounds)\n",
    "bst.save_model('%d.model' % int(time.time()))"
   ]
  },
  {
   "cell_type": "markdown",
   "metadata": {},
   "source": [
    "# Predict"
   ]
  },
  {
   "cell_type": "code",
   "execution_count": 17,
   "metadata": {
    "collapsed": false
   },
   "outputs": [],
   "source": [
    "# In-memory\n",
    "# PATH_TEST_LIBSVM = '/tmp/test.libsvm'\n",
    "PATH_TEST_LIBSVM = '/tmp/test_flagged.libsvm'\n",
    "dtest = xgb.DMatrix(PATH_TEST_LIBSVM)"
   ]
  },
  {
   "cell_type": "code",
   "execution_count": 19,
   "metadata": {
    "collapsed": true
   },
   "outputs": [],
   "source": [
    "preds = bst.predict(dtest)"
   ]
  },
  {
   "cell_type": "markdown",
   "metadata": {},
   "source": [
    "# Create submission"
   ]
  },
  {
   "cell_type": "code",
   "execution_count": 20,
   "metadata": {
    "collapsed": false
   },
   "outputs": [],
   "source": [
    "sub = pd.read_csv('../data/sample_submission.csv', index_col='ID')\n",
    "sub['target'] = preds\n",
    "sub.to_csv('../submissions/xgb_flagged_num_rounds7000.csv')"
   ]
  },
  {
   "cell_type": "markdown",
   "metadata": {},
   "source": [
    "# Scratchspace"
   ]
  },
  {
   "cell_type": "code",
   "execution_count": 18,
   "metadata": {
    "collapsed": false
   },
   "outputs": [
    {
     "data": {
      "text/plain": [
       "16"
      ]
     },
     "execution_count": 18,
     "metadata": {},
     "output_type": "execute_result"
    }
   ],
   "source": [
    "import gc\n",
    "del dtrain\n",
    "gc.collect()"
   ]
  },
  {
   "cell_type": "code",
   "execution_count": 16,
   "metadata": {
    "collapsed": false
   },
   "outputs": [
    {
     "name": "stdout",
     "output_type": "stream",
     "text": [
      "1\n"
     ]
    }
   ],
   "source": [
    "print 1"
   ]
  }
 ],
 "metadata": {
  "kernelspec": {
   "display_name": "Python 2",
   "language": "python",
   "name": "python2"
  },
  "language_info": {
   "codemirror_mode": {
    "name": "ipython",
    "version": 2
   },
   "file_extension": ".py",
   "mimetype": "text/x-python",
   "name": "python",
   "nbconvert_exporter": "python",
   "pygments_lexer": "ipython2",
   "version": "2.7.8"
  }
 },
 "nbformat": 4,
 "nbformat_minor": 0
}
