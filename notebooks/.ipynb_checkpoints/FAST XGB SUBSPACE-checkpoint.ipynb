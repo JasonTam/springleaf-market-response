{
 "cells": [
  {
   "cell_type": "code",
   "execution_count": 1,
   "metadata": {
    "collapsed": true
   },
   "outputs": [],
   "source": [
    "import pandas as pd\n",
    "import xgboost as xgb\n",
    "import os\n",
    "import logging\n",
    "import time\n",
    "import cPickle as pickle\n",
    "import numpy as np\n",
    "import gc\n",
    "\n",
    "# from IPython.utils.io import Tee\n",
    "# wtf = Tee('../logs/%s.log' % str(int(time.time())), 'w', channel='stderr')"
   ]
  },
  {
   "cell_type": "code",
   "execution_count": 2,
   "metadata": {
    "collapsed": false
   },
   "outputs": [
    {
     "name": "stdout",
     "output_type": "stream",
     "text": [
      "CPU times: user 73.3 ms, sys: 943 ms, total: 1.02 s\n",
      "Wall time: 16.1 s\n"
     ]
    }
   ],
   "source": [
    "%%time\n",
    "PATH_TRAIN_BIN = '../saved/rasco/train_sub%d.bin' % 2\n",
    "\n",
    "d_train = xgb.DMatrix(PATH_TRAIN_BIN)\n"
   ]
  },
  {
   "cell_type": "code",
   "execution_count": 4,
   "metadata": {
    "collapsed": false
   },
   "outputs": [],
   "source": [
    "params = {}\n",
    "params['objective'] = \"binary:logistic\"\n",
    "params['eta'] = 0.1\n",
    "params['min_child_weight'] = 6\n",
    "params['subsample'] = 0.7\n",
    "params['colsample_bytree'] = 0.7\n",
    "params['max_delta_step'] = 1\n",
    "params['silent'] = 1\n",
    "params['max_depth'] = 9 #7\n",
    "params['eval_metric'] = 'auc'\n",
    "# params[\"scale_pos_weight\"] = 1.0\n",
    "params['gamma'] = 5\n",
    "params['alpha'] = 1\n",
    "# params['nthread'] = 4\n",
    "\n",
    "def fpreproc(dtrain, dtest, param):\n",
    "    label = dtrain.get_label()\n",
    "    ratio = float(np.sum(label == 0)) / np.sum(label==1)\n",
    "    param['scale_pos_weight'] = ratio\n",
    "    return (dtrain, dtest, param)\n",
    "\n",
    "plst = list(params.items())\n",
    "\n",
    "max_rounds = 200\n"
   ]
  },
  {
   "cell_type": "code",
   "execution_count": 5,
   "metadata": {
    "collapsed": false
   },
   "outputs": [
    {
     "name": "stderr",
     "output_type": "stream",
     "text": [
      "[0]\tcv-test-auc:0.696109+0.003710\tcv-train-auc:0.750848+0.001872\n",
      "[1]\tcv-test-auc:0.722123+0.003598\tcv-train-auc:0.781559+0.002186\n",
      "[2]\tcv-test-auc:0.733494+0.002786\tcv-train-auc:0.795928+0.001939\n",
      "[3]\tcv-test-auc:0.740034+0.002643\tcv-train-auc:0.804224+0.001144\n",
      "[4]\tcv-test-auc:0.743550+0.002547\tcv-train-auc:0.810729+0.000704\n",
      "[5]\tcv-test-auc:0.746611+0.002499\tcv-train-auc:0.816664+0.000871\n",
      "[6]\tcv-test-auc:0.749159+0.002319\tcv-train-auc:0.822002+0.000787\n",
      "[7]\tcv-test-auc:0.750844+0.002324\tcv-train-auc:0.826149+0.000842\n",
      "[8]\tcv-test-auc:0.752159+0.002048\tcv-train-auc:0.829769+0.000816\n",
      "[9]\tcv-test-auc:0.753455+0.002290\tcv-train-auc:0.833350+0.000796\n",
      "[10]\tcv-test-auc:0.754596+0.002435\tcv-train-auc:0.837322+0.000427\n",
      "[11]\tcv-test-auc:0.755963+0.002157\tcv-train-auc:0.840892+0.000234\n",
      "[12]\tcv-test-auc:0.756990+0.002169\tcv-train-auc:0.844318+0.000430\n",
      "[13]\tcv-test-auc:0.757723+0.002298\tcv-train-auc:0.847035+0.000539\n",
      "[14]\tcv-test-auc:0.758692+0.002279\tcv-train-auc:0.850015+0.000672\n",
      "[15]\tcv-test-auc:0.759699+0.002192\tcv-train-auc:0.852840+0.000582\n",
      "[16]\tcv-test-auc:0.760633+0.002193\tcv-train-auc:0.855491+0.000297\n",
      "[17]\tcv-test-auc:0.761282+0.002180\tcv-train-auc:0.858153+0.000713\n",
      "[18]\tcv-test-auc:0.761818+0.002169\tcv-train-auc:0.860298+0.000809\n",
      "[19]\tcv-test-auc:0.762333+0.002159\tcv-train-auc:0.862321+0.000587\n",
      "[20]\tcv-test-auc:0.762961+0.002334\tcv-train-auc:0.864875+0.000239\n",
      "[21]\tcv-test-auc:0.763656+0.002378\tcv-train-auc:0.867058+0.000244\n",
      "[22]\tcv-test-auc:0.764235+0.002179\tcv-train-auc:0.869380+0.000124\n",
      "[23]\tcv-test-auc:0.764933+0.002155\tcv-train-auc:0.871825+0.000294\n",
      "[24]\tcv-test-auc:0.765470+0.002003\tcv-train-auc:0.874009+0.000239\n",
      "[25]\tcv-test-auc:0.765683+0.001999\tcv-train-auc:0.876222+0.000373\n",
      "[26]\tcv-test-auc:0.765948+0.002160\tcv-train-auc:0.878290+0.000359\n",
      "[27]\tcv-test-auc:0.766308+0.001946\tcv-train-auc:0.880146+0.000321\n",
      "[28]\tcv-test-auc:0.766586+0.002093\tcv-train-auc:0.882183+0.000261\n",
      "[29]\tcv-test-auc:0.766901+0.002020\tcv-train-auc:0.883997+0.000659\n",
      "[30]\tcv-test-auc:0.767236+0.002053\tcv-train-auc:0.886139+0.000489\n",
      "[31]\tcv-test-auc:0.767519+0.002020\tcv-train-auc:0.888281+0.000410\n",
      "[32]\tcv-test-auc:0.767838+0.001902\tcv-train-auc:0.889825+0.000667\n",
      "[33]\tcv-test-auc:0.768072+0.001895\tcv-train-auc:0.891329+0.000357\n",
      "[34]\tcv-test-auc:0.768411+0.001793\tcv-train-auc:0.893144+0.000645\n",
      "[35]\tcv-test-auc:0.768752+0.001908\tcv-train-auc:0.895170+0.000661\n",
      "[36]\tcv-test-auc:0.768982+0.001967\tcv-train-auc:0.896482+0.000627\n",
      "[37]\tcv-test-auc:0.769184+0.001926\tcv-train-auc:0.897890+0.000535\n",
      "[38]\tcv-test-auc:0.769302+0.001772\tcv-train-auc:0.899263+0.000571\n",
      "[39]\tcv-test-auc:0.769552+0.001765\tcv-train-auc:0.900945+0.000819\n",
      "[40]\tcv-test-auc:0.769653+0.001759\tcv-train-auc:0.902483+0.000774\n",
      "[41]\tcv-test-auc:0.769801+0.001739\tcv-train-auc:0.903989+0.000784\n",
      "[42]\tcv-test-auc:0.769803+0.001770\tcv-train-auc:0.905133+0.001036\n",
      "[43]\tcv-test-auc:0.770001+0.001692\tcv-train-auc:0.906629+0.000936\n",
      "[44]\tcv-test-auc:0.770193+0.001715\tcv-train-auc:0.907694+0.000849\n",
      "[45]\tcv-test-auc:0.770335+0.001660\tcv-train-auc:0.909008+0.001015\n",
      "[46]\tcv-test-auc:0.770545+0.001653\tcv-train-auc:0.910642+0.001329\n",
      "[47]\tcv-test-auc:0.770600+0.001602\tcv-train-auc:0.911634+0.000914\n",
      "[48]\tcv-test-auc:0.770688+0.001456\tcv-train-auc:0.912826+0.001065\n",
      "[49]\tcv-test-auc:0.770729+0.001408\tcv-train-auc:0.913926+0.001229\n",
      "[50]\tcv-test-auc:0.770889+0.001345\tcv-train-auc:0.915090+0.001470\n",
      "[51]\tcv-test-auc:0.770963+0.001384\tcv-train-auc:0.916011+0.001461\n",
      "[52]\tcv-test-auc:0.771142+0.001400\tcv-train-auc:0.917306+0.001615\n",
      "[53]\tcv-test-auc:0.771230+0.001534\tcv-train-auc:0.918446+0.001325\n",
      "[54]\tcv-test-auc:0.771339+0.001471\tcv-train-auc:0.919455+0.001409\n",
      "[55]\tcv-test-auc:0.771324+0.001418\tcv-train-auc:0.920584+0.001412\n",
      "[56]\tcv-test-auc:0.771451+0.001448\tcv-train-auc:0.921544+0.001305\n",
      "[57]\tcv-test-auc:0.771453+0.001477\tcv-train-auc:0.922543+0.001326\n",
      "[58]\tcv-test-auc:0.771618+0.001449\tcv-train-auc:0.923787+0.001306\n",
      "[59]\tcv-test-auc:0.771679+0.001391\tcv-train-auc:0.925035+0.000947\n",
      "[60]\tcv-test-auc:0.771762+0.001411\tcv-train-auc:0.925728+0.001012\n",
      "[61]\tcv-test-auc:0.771814+0.001479\tcv-train-auc:0.926549+0.000919\n",
      "[62]\tcv-test-auc:0.771916+0.001557\tcv-train-auc:0.927391+0.000988\n",
      "[63]\tcv-test-auc:0.771857+0.001585\tcv-train-auc:0.928354+0.000853\n",
      "[64]\tcv-test-auc:0.771783+0.001548\tcv-train-auc:0.929266+0.000840\n",
      "[65]\tcv-test-auc:0.771891+0.001556\tcv-train-auc:0.930312+0.000882\n",
      "[66]\tcv-test-auc:0.771946+0.001512\tcv-train-auc:0.931102+0.000839\n",
      "[67]\tcv-test-auc:0.772019+0.001596\tcv-train-auc:0.931647+0.000949\n",
      "[68]\tcv-test-auc:0.772099+0.001529\tcv-train-auc:0.932612+0.000624\n",
      "[69]\tcv-test-auc:0.772144+0.001605\tcv-train-auc:0.933453+0.000769\n",
      "[70]\tcv-test-auc:0.772231+0.001587\tcv-train-auc:0.934202+0.000649\n",
      "[71]\tcv-test-auc:0.772212+0.001578\tcv-train-auc:0.934979+0.000916\n",
      "[72]\tcv-test-auc:0.772229+0.001620\tcv-train-auc:0.935710+0.001027\n",
      "[73]\tcv-test-auc:0.772164+0.001708\tcv-train-auc:0.936763+0.000802\n",
      "[74]\tcv-test-auc:0.772193+0.001659\tcv-train-auc:0.937684+0.001090\n",
      "[75]\tcv-test-auc:0.772217+0.001615\tcv-train-auc:0.938296+0.001115\n",
      "[76]\tcv-test-auc:0.772236+0.001583\tcv-train-auc:0.939090+0.001130\n",
      "[77]\tcv-test-auc:0.772302+0.001651\tcv-train-auc:0.939974+0.001161\n",
      "[78]\tcv-test-auc:0.772369+0.001615\tcv-train-auc:0.940770+0.001158\n",
      "[79]\tcv-test-auc:0.772360+0.001663\tcv-train-auc:0.941322+0.001074\n",
      "[80]\tcv-test-auc:0.772333+0.001667\tcv-train-auc:0.942251+0.000848\n",
      "[81]\tcv-test-auc:0.772358+0.001681\tcv-train-auc:0.943045+0.000979\n",
      "[82]\tcv-test-auc:0.772413+0.001644\tcv-train-auc:0.943715+0.001011\n",
      "[83]\tcv-test-auc:0.772415+0.001634\tcv-train-auc:0.944835+0.001035\n",
      "[84]\tcv-test-auc:0.772392+0.001625\tcv-train-auc:0.945456+0.001003\n",
      "[85]\tcv-test-auc:0.772348+0.001642\tcv-train-auc:0.946425+0.001075\n",
      "[86]\tcv-test-auc:0.772367+0.001574\tcv-train-auc:0.946884+0.001202\n",
      "[87]\tcv-test-auc:0.772290+0.001650\tcv-train-auc:0.947452+0.001109\n",
      "[88]\tcv-test-auc:0.772324+0.001730\tcv-train-auc:0.948530+0.000975\n",
      "[89]\tcv-test-auc:0.772265+0.001684\tcv-train-auc:0.949237+0.000962\n",
      "[90]\tcv-test-auc:0.772255+0.001711\tcv-train-auc:0.949703+0.001055\n",
      "[91]\tcv-test-auc:0.772277+0.001717\tcv-train-auc:0.950223+0.001026\n",
      "[92]\tcv-test-auc:0.772334+0.001682\tcv-train-auc:0.950610+0.001032\n",
      "[93]\tcv-test-auc:0.772396+0.001631\tcv-train-auc:0.951316+0.001036\n",
      "[94]\tcv-test-auc:0.772400+0.001672\tcv-train-auc:0.951802+0.001129\n",
      "[95]\tcv-test-auc:0.772362+0.001656\tcv-train-auc:0.952473+0.001017\n",
      "[96]\tcv-test-auc:0.772402+0.001670\tcv-train-auc:0.953074+0.000787\n",
      "[97]\tcv-test-auc:0.772434+0.001688\tcv-train-auc:0.953853+0.000811\n",
      "[98]\tcv-test-auc:0.772510+0.001689\tcv-train-auc:0.954439+0.000715\n",
      "[99]\tcv-test-auc:0.772552+0.001689\tcv-train-auc:0.954942+0.000717\n",
      "[100]\tcv-test-auc:0.772508+0.001637\tcv-train-auc:0.955436+0.000732\n",
      "[101]\tcv-test-auc:0.772529+0.001683\tcv-train-auc:0.955851+0.000815\n",
      "[102]\tcv-test-auc:0.772511+0.001718\tcv-train-auc:0.956582+0.000987\n",
      "[103]\tcv-test-auc:0.772476+0.001657\tcv-train-auc:0.957257+0.000876\n",
      "[104]\tcv-test-auc:0.772484+0.001698\tcv-train-auc:0.957539+0.000807\n",
      "[105]\tcv-test-auc:0.772550+0.001646\tcv-train-auc:0.958178+0.000780\n",
      "[106]\tcv-test-auc:0.772582+0.001678\tcv-train-auc:0.958747+0.000678\n",
      "[107]\tcv-test-auc:0.772589+0.001734\tcv-train-auc:0.959109+0.000750\n",
      "[108]\tcv-test-auc:0.772629+0.001697\tcv-train-auc:0.959615+0.000907\n",
      "[109]\tcv-test-auc:0.772626+0.001633\tcv-train-auc:0.959950+0.000964\n",
      "[110]\tcv-test-auc:0.772612+0.001669\tcv-train-auc:0.960602+0.001093\n",
      "[111]\tcv-test-auc:0.772662+0.001609\tcv-train-auc:0.960987+0.000968\n",
      "[112]\tcv-test-auc:0.772607+0.001714\tcv-train-auc:0.961463+0.001048\n",
      "[113]\tcv-test-auc:0.772622+0.001712\tcv-train-auc:0.961922+0.001092\n",
      "[114]\tcv-test-auc:0.772618+0.001706\tcv-train-auc:0.962328+0.001033\n",
      "[115]\tcv-test-auc:0.772631+0.001658\tcv-train-auc:0.962902+0.001025\n",
      "[116]\tcv-test-auc:0.772565+0.001647\tcv-train-auc:0.963278+0.001003\n",
      "[117]\tcv-test-auc:0.772576+0.001637\tcv-train-auc:0.963693+0.000979\n",
      "[118]\tcv-test-auc:0.772603+0.001664\tcv-train-auc:0.964247+0.001007\n",
      "[119]\tcv-test-auc:0.772522+0.001673\tcv-train-auc:0.964702+0.000948\n",
      "[120]\tcv-test-auc:0.772506+0.001588\tcv-train-auc:0.965249+0.000887\n",
      "[121]\tcv-test-auc:0.772467+0.001584\tcv-train-auc:0.965622+0.000687\n",
      "[122]\tcv-test-auc:0.772445+0.001594\tcv-train-auc:0.966187+0.000853\n",
      "[123]\tcv-test-auc:0.772456+0.001563\tcv-train-auc:0.966609+0.000868\n",
      "[124]\tcv-test-auc:0.772386+0.001550\tcv-train-auc:0.967177+0.000626\n",
      "[125]\tcv-test-auc:0.772365+0.001560\tcv-train-auc:0.967763+0.000567\n",
      "[126]\tcv-test-auc:0.772395+0.001560\tcv-train-auc:0.968157+0.000664\n",
      "[127]\tcv-test-auc:0.772423+0.001594\tcv-train-auc:0.968468+0.000624\n",
      "[128]\tcv-test-auc:0.772385+0.001581\tcv-train-auc:0.968909+0.000746\n",
      "[129]\tcv-test-auc:0.772418+0.001593\tcv-train-auc:0.969308+0.000852\n",
      "[130]\tcv-test-auc:0.772375+0.001617\tcv-train-auc:0.969672+0.000783\n",
      "[131]\tcv-test-auc:0.772439+0.001668\tcv-train-auc:0.970208+0.000668\n",
      "[132]\tcv-test-auc:0.772463+0.001670\tcv-train-auc:0.970596+0.000656\n",
      "[133]\tcv-test-auc:0.772485+0.001708\tcv-train-auc:0.970909+0.000584\n",
      "[134]\tcv-test-auc:0.772421+0.001756\tcv-train-auc:0.971389+0.000687\n",
      "[135]\tcv-test-auc:0.772367+0.001739\tcv-train-auc:0.971709+0.000809\n",
      "[136]\tcv-test-auc:0.772400+0.001745\tcv-train-auc:0.972221+0.000870\n",
      "[137]\tcv-test-auc:0.772409+0.001722\tcv-train-auc:0.972704+0.000780\n",
      "[138]\tcv-test-auc:0.772466+0.001649\tcv-train-auc:0.973019+0.000663\n"
     ]
    },
    {
     "ename": "KeyboardInterrupt",
     "evalue": "",
     "output_type": "error",
     "traceback": [
      "\u001b[1;31m---------------------------------------------------------------------------\u001b[0m",
      "\u001b[1;31mKeyboardInterrupt\u001b[0m                         Traceback (most recent call last)",
      "\u001b[1;32m<ipython-input-5-21af9646320b>\u001b[0m in \u001b[0;36m<module>\u001b[1;34m()\u001b[0m\n\u001b[1;32m----> 1\u001b[1;33m \u001b[0mget_ipython\u001b[0m\u001b[1;33m(\u001b[0m\u001b[1;33m)\u001b[0m\u001b[1;33m.\u001b[0m\u001b[0mrun_cell_magic\u001b[0m\u001b[1;33m(\u001b[0m\u001b[1;34mu'time'\u001b[0m\u001b[1;33m,\u001b[0m \u001b[1;34mu''\u001b[0m\u001b[1;33m,\u001b[0m \u001b[1;34mu\"cv_log = xgb.cv(params, d_train, max_rounds, nfold=3,\\n                metrics={'auc'}, seed = 0,\\n                fpreproc=fpreproc)\\n\\npickle.dump((params, cv_log), open('../logs/cv_rasco_log_%d.p' % int(time.time()), 'wb'))\"\u001b[0m\u001b[1;33m)\u001b[0m\u001b[1;33m\u001b[0m\u001b[0m\n\u001b[0m",
      "\u001b[1;32m/usr/lib/python2.7/site-packages/IPython/core/interactiveshell.pyc\u001b[0m in \u001b[0;36mrun_cell_magic\u001b[1;34m(self, magic_name, line, cell)\u001b[0m\n\u001b[0;32m   2291\u001b[0m             \u001b[0mmagic_arg_s\u001b[0m \u001b[1;33m=\u001b[0m \u001b[0mself\u001b[0m\u001b[1;33m.\u001b[0m\u001b[0mvar_expand\u001b[0m\u001b[1;33m(\u001b[0m\u001b[0mline\u001b[0m\u001b[1;33m,\u001b[0m \u001b[0mstack_depth\u001b[0m\u001b[1;33m)\u001b[0m\u001b[1;33m\u001b[0m\u001b[0m\n\u001b[0;32m   2292\u001b[0m             \u001b[1;32mwith\u001b[0m \u001b[0mself\u001b[0m\u001b[1;33m.\u001b[0m\u001b[0mbuiltin_trap\u001b[0m\u001b[1;33m:\u001b[0m\u001b[1;33m\u001b[0m\u001b[0m\n\u001b[1;32m-> 2293\u001b[1;33m                 \u001b[0mresult\u001b[0m \u001b[1;33m=\u001b[0m \u001b[0mfn\u001b[0m\u001b[1;33m(\u001b[0m\u001b[0mmagic_arg_s\u001b[0m\u001b[1;33m,\u001b[0m \u001b[0mcell\u001b[0m\u001b[1;33m)\u001b[0m\u001b[1;33m\u001b[0m\u001b[0m\n\u001b[0m\u001b[0;32m   2294\u001b[0m             \u001b[1;32mreturn\u001b[0m \u001b[0mresult\u001b[0m\u001b[1;33m\u001b[0m\u001b[0m\n\u001b[0;32m   2295\u001b[0m \u001b[1;33m\u001b[0m\u001b[0m\n",
      "\u001b[1;32m/usr/lib/python2.7/site-packages/IPython/core/magics/execution.pyc\u001b[0m in \u001b[0;36mtime\u001b[1;34m(self, line, cell, local_ns)\u001b[0m\n",
      "\u001b[1;32m/usr/lib/python2.7/site-packages/IPython/core/magic.pyc\u001b[0m in \u001b[0;36m<lambda>\u001b[1;34m(f, *a, **k)\u001b[0m\n\u001b[0;32m    191\u001b[0m     \u001b[1;31m# but it's overkill for just that one bit of state.\u001b[0m\u001b[1;33m\u001b[0m\u001b[1;33m\u001b[0m\u001b[0m\n\u001b[0;32m    192\u001b[0m     \u001b[1;32mdef\u001b[0m \u001b[0mmagic_deco\u001b[0m\u001b[1;33m(\u001b[0m\u001b[0marg\u001b[0m\u001b[1;33m)\u001b[0m\u001b[1;33m:\u001b[0m\u001b[1;33m\u001b[0m\u001b[0m\n\u001b[1;32m--> 193\u001b[1;33m         \u001b[0mcall\u001b[0m \u001b[1;33m=\u001b[0m \u001b[1;32mlambda\u001b[0m \u001b[0mf\u001b[0m\u001b[1;33m,\u001b[0m \u001b[1;33m*\u001b[0m\u001b[0ma\u001b[0m\u001b[1;33m,\u001b[0m \u001b[1;33m**\u001b[0m\u001b[0mk\u001b[0m\u001b[1;33m:\u001b[0m \u001b[0mf\u001b[0m\u001b[1;33m(\u001b[0m\u001b[1;33m*\u001b[0m\u001b[0ma\u001b[0m\u001b[1;33m,\u001b[0m \u001b[1;33m**\u001b[0m\u001b[0mk\u001b[0m\u001b[1;33m)\u001b[0m\u001b[1;33m\u001b[0m\u001b[0m\n\u001b[0m\u001b[0;32m    194\u001b[0m \u001b[1;33m\u001b[0m\u001b[0m\n\u001b[0;32m    195\u001b[0m         \u001b[1;32mif\u001b[0m \u001b[0mcallable\u001b[0m\u001b[1;33m(\u001b[0m\u001b[0marg\u001b[0m\u001b[1;33m)\u001b[0m\u001b[1;33m:\u001b[0m\u001b[1;33m\u001b[0m\u001b[0m\n",
      "\u001b[1;32m/usr/lib/python2.7/site-packages/IPython/core/magics/execution.pyc\u001b[0m in \u001b[0;36mtime\u001b[1;34m(self, line, cell, local_ns)\u001b[0m\n\u001b[0;32m   1165\u001b[0m         \u001b[1;32melse\u001b[0m\u001b[1;33m:\u001b[0m\u001b[1;33m\u001b[0m\u001b[0m\n\u001b[0;32m   1166\u001b[0m             \u001b[0mst\u001b[0m \u001b[1;33m=\u001b[0m \u001b[0mclock2\u001b[0m\u001b[1;33m(\u001b[0m\u001b[1;33m)\u001b[0m\u001b[1;33m\u001b[0m\u001b[0m\n\u001b[1;32m-> 1167\u001b[1;33m             \u001b[1;32mexec\u001b[0m\u001b[1;33m(\u001b[0m\u001b[0mcode\u001b[0m\u001b[1;33m,\u001b[0m \u001b[0mglob\u001b[0m\u001b[1;33m,\u001b[0m \u001b[0mlocal_ns\u001b[0m\u001b[1;33m)\u001b[0m\u001b[1;33m\u001b[0m\u001b[0m\n\u001b[0m\u001b[0;32m   1168\u001b[0m             \u001b[0mend\u001b[0m \u001b[1;33m=\u001b[0m \u001b[0mclock2\u001b[0m\u001b[1;33m(\u001b[0m\u001b[1;33m)\u001b[0m\u001b[1;33m\u001b[0m\u001b[0m\n\u001b[0;32m   1169\u001b[0m             \u001b[0mout\u001b[0m \u001b[1;33m=\u001b[0m \u001b[0mNone\u001b[0m\u001b[1;33m\u001b[0m\u001b[0m\n",
      "\u001b[1;32m<timed exec>\u001b[0m in \u001b[0;36m<module>\u001b[1;34m()\u001b[0m\n",
      "\u001b[1;32m/usr/lib/python2.7/site-packages/xgboost-0.4-py2.7.egg/xgboost/training.pyc\u001b[0m in \u001b[0;36mcv\u001b[1;34m(params, dtrain, num_boost_round, nfold, metrics, obj, feval, fpreproc, show_stdv, seed)\u001b[0m\n\u001b[0;32m    245\u001b[0m     \u001b[1;32mfor\u001b[0m \u001b[0mi\u001b[0m \u001b[1;32min\u001b[0m \u001b[0mrange\u001b[0m\u001b[1;33m(\u001b[0m\u001b[0mnum_boost_round\u001b[0m\u001b[1;33m)\u001b[0m\u001b[1;33m:\u001b[0m\u001b[1;33m\u001b[0m\u001b[0m\n\u001b[0;32m    246\u001b[0m         \u001b[1;32mfor\u001b[0m \u001b[0mfold\u001b[0m \u001b[1;32min\u001b[0m \u001b[0mcvfolds\u001b[0m\u001b[1;33m:\u001b[0m\u001b[1;33m\u001b[0m\u001b[0m\n\u001b[1;32m--> 247\u001b[1;33m             \u001b[0mfold\u001b[0m\u001b[1;33m.\u001b[0m\u001b[0mupdate\u001b[0m\u001b[1;33m(\u001b[0m\u001b[0mi\u001b[0m\u001b[1;33m,\u001b[0m \u001b[0mobj\u001b[0m\u001b[1;33m)\u001b[0m\u001b[1;33m\u001b[0m\u001b[0m\n\u001b[0m\u001b[0;32m    248\u001b[0m         \u001b[0mres\u001b[0m \u001b[1;33m=\u001b[0m \u001b[0maggcv\u001b[0m\u001b[1;33m(\u001b[0m\u001b[1;33m[\u001b[0m\u001b[0mf\u001b[0m\u001b[1;33m.\u001b[0m\u001b[0meval\u001b[0m\u001b[1;33m(\u001b[0m\u001b[0mi\u001b[0m\u001b[1;33m,\u001b[0m \u001b[0mfeval\u001b[0m\u001b[1;33m)\u001b[0m \u001b[1;32mfor\u001b[0m \u001b[0mf\u001b[0m \u001b[1;32min\u001b[0m \u001b[0mcvfolds\u001b[0m\u001b[1;33m]\u001b[0m\u001b[1;33m,\u001b[0m \u001b[0mshow_stdv\u001b[0m\u001b[1;33m)\u001b[0m\u001b[1;33m\u001b[0m\u001b[0m\n\u001b[0;32m    249\u001b[0m         \u001b[0msys\u001b[0m\u001b[1;33m.\u001b[0m\u001b[0mstderr\u001b[0m\u001b[1;33m.\u001b[0m\u001b[0mwrite\u001b[0m\u001b[1;33m(\u001b[0m\u001b[0mres\u001b[0m \u001b[1;33m+\u001b[0m \u001b[1;34m'\\n'\u001b[0m\u001b[1;33m)\u001b[0m\u001b[1;33m\u001b[0m\u001b[0m\n",
      "\u001b[1;32m/usr/lib/python2.7/site-packages/xgboost-0.4-py2.7.egg/xgboost/training.pyc\u001b[0m in \u001b[0;36mupdate\u001b[1;34m(self, iteration, fobj)\u001b[0m\n\u001b[0;32m    150\u001b[0m     \u001b[1;32mdef\u001b[0m \u001b[0mupdate\u001b[0m\u001b[1;33m(\u001b[0m\u001b[0mself\u001b[0m\u001b[1;33m,\u001b[0m \u001b[0miteration\u001b[0m\u001b[1;33m,\u001b[0m \u001b[0mfobj\u001b[0m\u001b[1;33m)\u001b[0m\u001b[1;33m:\u001b[0m\u001b[1;33m\u001b[0m\u001b[0m\n\u001b[0;32m    151\u001b[0m         \u001b[1;34m\"\"\"\"Update the boosters for one iteration\"\"\"\u001b[0m\u001b[1;33m\u001b[0m\u001b[0m\n\u001b[1;32m--> 152\u001b[1;33m         \u001b[0mself\u001b[0m\u001b[1;33m.\u001b[0m\u001b[0mbst\u001b[0m\u001b[1;33m.\u001b[0m\u001b[0mupdate\u001b[0m\u001b[1;33m(\u001b[0m\u001b[0mself\u001b[0m\u001b[1;33m.\u001b[0m\u001b[0mdtrain\u001b[0m\u001b[1;33m,\u001b[0m \u001b[0miteration\u001b[0m\u001b[1;33m,\u001b[0m \u001b[0mfobj\u001b[0m\u001b[1;33m)\u001b[0m\u001b[1;33m\u001b[0m\u001b[0m\n\u001b[0m\u001b[0;32m    153\u001b[0m \u001b[1;33m\u001b[0m\u001b[0m\n\u001b[0;32m    154\u001b[0m     \u001b[1;32mdef\u001b[0m \u001b[0meval\u001b[0m\u001b[1;33m(\u001b[0m\u001b[0mself\u001b[0m\u001b[1;33m,\u001b[0m \u001b[0miteration\u001b[0m\u001b[1;33m,\u001b[0m \u001b[0mfeval\u001b[0m\u001b[1;33m)\u001b[0m\u001b[1;33m:\u001b[0m\u001b[1;33m\u001b[0m\u001b[0m\n",
      "\u001b[1;32m/usr/lib/python2.7/site-packages/xgboost-0.4-py2.7.egg/xgboost/core.pyc\u001b[0m in \u001b[0;36mupdate\u001b[1;34m(self, dtrain, iteration, fobj)\u001b[0m\n\u001b[0;32m    515\u001b[0m             \u001b[1;32mraise\u001b[0m \u001b[0mTypeError\u001b[0m\u001b[1;33m(\u001b[0m\u001b[1;34m'invalid training matrix: {}'\u001b[0m\u001b[1;33m.\u001b[0m\u001b[0mformat\u001b[0m\u001b[1;33m(\u001b[0m\u001b[0mtype\u001b[0m\u001b[1;33m(\u001b[0m\u001b[0mdtrain\u001b[0m\u001b[1;33m)\u001b[0m\u001b[1;33m.\u001b[0m\u001b[0m__name__\u001b[0m\u001b[1;33m)\u001b[0m\u001b[1;33m)\u001b[0m\u001b[1;33m\u001b[0m\u001b[0m\n\u001b[0;32m    516\u001b[0m         \u001b[1;32mif\u001b[0m \u001b[0mfobj\u001b[0m \u001b[1;32mis\u001b[0m \u001b[0mNone\u001b[0m\u001b[1;33m:\u001b[0m\u001b[1;33m\u001b[0m\u001b[0m\n\u001b[1;32m--> 517\u001b[1;33m             \u001b[0m_check_call\u001b[0m\u001b[1;33m(\u001b[0m\u001b[0m_LIB\u001b[0m\u001b[1;33m.\u001b[0m\u001b[0mXGBoosterUpdateOneIter\u001b[0m\u001b[1;33m(\u001b[0m\u001b[0mself\u001b[0m\u001b[1;33m.\u001b[0m\u001b[0mhandle\u001b[0m\u001b[1;33m,\u001b[0m \u001b[0miteration\u001b[0m\u001b[1;33m,\u001b[0m \u001b[0mdtrain\u001b[0m\u001b[1;33m.\u001b[0m\u001b[0mhandle\u001b[0m\u001b[1;33m)\u001b[0m\u001b[1;33m)\u001b[0m\u001b[1;33m\u001b[0m\u001b[0m\n\u001b[0m\u001b[0;32m    518\u001b[0m         \u001b[1;32melse\u001b[0m\u001b[1;33m:\u001b[0m\u001b[1;33m\u001b[0m\u001b[0m\n\u001b[0;32m    519\u001b[0m             \u001b[0mpred\u001b[0m \u001b[1;33m=\u001b[0m \u001b[0mself\u001b[0m\u001b[1;33m.\u001b[0m\u001b[0mpredict\u001b[0m\u001b[1;33m(\u001b[0m\u001b[0mdtrain\u001b[0m\u001b[1;33m)\u001b[0m\u001b[1;33m\u001b[0m\u001b[0m\n",
      "\u001b[1;31mKeyboardInterrupt\u001b[0m: "
     ]
    }
   ],
   "source": [
    "%%time\n",
    "cv_log = xgb.cv(params, d_train, max_rounds, nfold=3,\n",
    "                metrics={'auc'}, seed = 0,\n",
    "                fpreproc=fpreproc)\n",
    "\n",
    "pickle.dump((params, cv_log), open('../logs/cv_rasco_log_%d.p' % int(time.time()), 'wb'))"
   ]
  },
  {
   "cell_type": "code",
   "execution_count": 10,
   "metadata": {
    "collapsed": false
   },
   "outputs": [
    {
     "data": {
      "text/plain": [
       "9"
      ]
     },
     "execution_count": 10,
     "metadata": {},
     "output_type": "execute_result"
    }
   ],
   "source": [
    "del d_train\n",
    "gc.collect()"
   ]
  },
  {
   "cell_type": "code",
   "execution_count": null,
   "metadata": {
    "collapsed": true
   },
   "outputs": [],
   "source": [
    "# eta, #rounds, subspace, auc\n",
    "[0.1, 120, 0, 0.7727]\n",
    "[0.1, 125, 1, 0.7738]\n",
    "[0.1, 110, 1, 0.7726]"
   ]
  }
 ],
 "metadata": {
  "kernelspec": {
   "display_name": "Python 2",
   "language": "python",
   "name": "python2"
  },
  "language_info": {
   "codemirror_mode": {
    "name": "ipython",
    "version": 2
   },
   "file_extension": ".py",
   "mimetype": "text/x-python",
   "name": "python",
   "nbconvert_exporter": "python",
   "pygments_lexer": "ipython2",
   "version": "2.7.8"
  }
 },
 "nbformat": 4,
 "nbformat_minor": 0
}
