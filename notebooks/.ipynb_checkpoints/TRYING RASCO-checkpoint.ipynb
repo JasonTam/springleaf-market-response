{
 "cells": [
  {
   "cell_type": "code",
   "execution_count": 1,
   "metadata": {
    "collapsed": true
   },
   "outputs": [],
   "source": [
    "import pandas as pd\n",
    "import xgboost as xgb\n",
    "import os\n",
    "import logging\n",
    "import time\n",
    "import cPickle as pickle\n",
    "import numpy as np\n",
    "import glob\n",
    "import gc\n",
    "\n",
    "import matplotlib.pyplot as plt\n",
    "import seaborn as sns\n",
    "%matplotlib inline\n",
    "\n",
    "from collections import Counter\n"
   ]
  },
  {
   "cell_type": "markdown",
   "metadata": {},
   "source": [
    "# XGB params"
   ]
  },
  {
   "cell_type": "code",
   "execution_count": 2,
   "metadata": {
    "collapsed": true
   },
   "outputs": [],
   "source": [
    "params = {}\n",
    "params['objective'] = \"binary:logistic\"\n",
    "params['eta'] = 0.1\n",
    "params['min_child_weight'] = 6\n",
    "params['subsample'] = 0.7\n",
    "params['colsample_bytree'] = 0.7\n",
    "params['max_delta_step'] = 1\n",
    "params['silent'] = 1\n",
    "params['max_depth'] = 9 #7\n",
    "params['eval_metric'] = 'auc'\n",
    "# params[\"scale_pos_weight\"] = 1.0\n",
    "params['gamma'] = 5\n",
    "params['alpha'] = 1\n",
    "# params['nthread'] = 4\n",
    "\n",
    "def fpreproc(dtrain, dtest, param):\n",
    "    label = dtrain.get_label()\n",
    "    ratio = float(np.sum(label == 0)) / np.sum(label==1)\n",
    "    param['scale_pos_weight'] = ratio\n",
    "    return (dtrain, dtest, param)\n",
    "\n",
    "plst = list(params.items())\n",
    "\n",
    "n_rounds = 125\n"
   ]
  },
  {
   "cell_type": "markdown",
   "metadata": {},
   "source": [
    "# Dimensions"
   ]
  },
  {
   "cell_type": "code",
   "execution_count": 3,
   "metadata": {
    "collapsed": false
   },
   "outputs": [
    {
     "name": "stdout",
     "output_type": "stream",
     "text": [
      "train \t # rows: 145175\n",
      "test \t # rows: 145232\n",
      "(145175,)\n",
      "(145232,)\n",
      "CPU times: user 123 ms, sys: 63.3 ms, total: 187 ms\n",
      "Wall time: 807 ms\n"
     ]
    }
   ],
   "source": [
    "%%time\n",
    "# Gathering some information\n",
    "PATH_STORE = '../saved/storage.h5'\n",
    "\n",
    "n_rows = {}\n",
    "slice_inds = {}\n",
    "\n",
    "for mode in ['train', 'test']:\n",
    "    cols_df = pd.read_hdf(PATH_STORE, mode, \n",
    "                           where=[\"index==0\"])\n",
    "\n",
    "    store = pd.HDFStore(PATH_STORE)\n",
    "    n_rows[mode] = store.get_storer(mode).nrows\n",
    "    store.close()\n",
    "\n",
    "    print '%s \\t # rows: %d' % (mode, n_rows[mode])\n",
    "\n",
    "\n",
    "# Initial slice inds\n",
    "slice_inds['train'] = np.arange(n_rows['train'])\n",
    "slice_inds['test'] = np.arange(n_rows['train'], n_rows['train'] + n_rows['test'])\n",
    "\n",
    "print slice_inds['train'].shape\n",
    "print slice_inds['test'].shape"
   ]
  },
  {
   "cell_type": "markdown",
   "metadata": {},
   "source": [
    "# Initial targets"
   ]
  },
  {
   "cell_type": "code",
   "execution_count": 4,
   "metadata": {
    "collapsed": false
   },
   "outputs": [
    {
     "name": "stdout",
     "output_type": "stream",
     "text": [
      "Ratio pos: 0.232546926124\n",
      "Ratio neg: 0.767453073876\n"
     ]
    }
   ],
   "source": [
    "targets_train = np.array(pd.read_pickle('../saved/train_targets.p')['target'])\n",
    "rat_pos, rat_neg = [(targets_train == v).sum() / float(len(targets_train)) for v in [1, 0]]\n",
    "print 'Ratio pos:', rat_pos\n",
    "print 'Ratio neg:', rat_neg\n",
    "\n",
    "# Initial targets_all\n",
    "targets_all = np.concatenate([targets_train, -1*np.ones(n_rows['test'])])"
   ]
  },
  {
   "cell_type": "code",
   "execution_count": 5,
   "metadata": {
    "collapsed": false
   },
   "outputs": [
    {
     "name": "stdout",
     "output_type": "stream",
     "text": [
      "5\n"
     ]
    }
   ],
   "source": [
    "PATH_LIBSVM = '../saved/rasco/both_sub%d.libsvm'\n",
    "\n",
    "n_subsp = len(glob.glob(PATH_LIBSVM.replace('%d', '%s') % '*'))\n",
    "print n_subsp\n"
   ]
  },
  {
   "cell_type": "code",
   "execution_count": 9,
   "metadata": {
    "collapsed": false
   },
   "outputs": [],
   "source": [
    "def get_transfers(preds_arr, test_inds, xfer_base_perc=0.05):\n",
    "    pred_avg = preds_arr.mean(axis=0)\n",
    "\n",
    "    # Positive candidates\n",
    "    perc_top = np.percentile(pred_avg, 100 - xfer_base_perc*rat_pos)\n",
    "    xfer_pos_bools = pred_avg > perc_top\n",
    "    print '# Pos xfer:', sum(xfer_pos_bools), '@ thresh:', perc_top\n",
    "\n",
    "    # Negative candidates\n",
    "    perc_bot = np.percentile(pred_avg, xfer_base_perc*rat_neg)\n",
    "    xfer_neg_bools = pred_avg < perc_bot\n",
    "    print '# Neg xfer:', sum(xfer_neg_bools), '@ thresh:', perc_bot\n",
    "\n",
    "    xfer_pos_inds = test_inds[xfer_pos_bools]\n",
    "    xfer_neg_inds = test_inds[xfer_neg_bools]\n",
    "    \n",
    "    return xfer_pos_inds, xfer_neg_inds"
   ]
  },
  {
   "cell_type": "code",
   "execution_count": null,
   "metadata": {
    "collapsed": false
   },
   "outputs": [
    {
     "name": "stdout",
     "output_type": "stream",
     "text": [
      "ITER 0\n",
      "Processing subspace # 0"
     ]
    }
   ],
   "source": [
    "%%time\n",
    "PATH_SAVE_BIN = '/tmp/both_sub%d.bin'\n",
    "\n",
    "n_iters = 10\n",
    "targets_history = []\n",
    "\n",
    "for t in range(n_iters):\n",
    "    print 'ITER %s' % t\n",
    "\n",
    "    preds_arr = np.zeros((n_subsp, sum(targets_all == -1)))\n",
    "\n",
    "    for sub_i in range(n_subsp):\n",
    "        print 'Processing subspace # %d' % sub_i\n",
    "\n",
    "        # Get DMatrix for this subspace\n",
    "        d_sub = xgb.DMatrix(PATH_SAVE_BIN % sub_i)\n",
    "\n",
    "        # Apply transfers from previous iteration\n",
    "        d_sub.set_label(targets_all)\n",
    "\n",
    "        # Get new indices of train and test rows\n",
    "        slice_inds['train'] = np.where((d_sub.get_label() != -1))[0]\n",
    "        slice_inds['test'] = np.where((d_sub.get_label() == -1))[0]\n",
    "\n",
    "        # Train model\n",
    "        model = xgb.train(params, d_sub.slice(slice_inds['train']), num_boost_round=n_rounds, )\n",
    "\n",
    "        # Predict test\n",
    "        preds = model.predict(d_sub.slice(slice_inds['test']))\n",
    "        preds_arr[sub_i, :] = preds\n",
    "\n",
    "        del d_sub\n",
    "        gc.collect()\n",
    "    #     break\n",
    "\n",
    "    # Get transfers\n",
    "    xfer_pos_inds, xfer_neg_inds = get_transfers(preds_arr, test_inds=np.where(targets_all == -1)[0])\n",
    "\n",
    "    # Transfer\n",
    "    print 'Distribution before transfer:', Counter(targets_all)\n",
    "    targets_all[xfer_pos_inds] = 1\n",
    "    targets_all[xfer_neg_inds] = 0\n",
    "    print 'Distribution after transfer:', Counter(targets_all)\n",
    "\n",
    "    targets_history.append(targets_all.copy())\n",
    "\n",
    "    # Save history\n",
    "    np.save('../saved/rasco/targets_history.npy', np.array(targets_history))\n",
    "    np.save('../saved/rasco/targets_history_%d.npy' % t, targets_all)\n",
    "    \n",
    "    "
   ]
  },
  {
   "cell_type": "code",
   "execution_count": 23,
   "metadata": {
    "collapsed": false
   },
   "outputs": [
    {
     "name": "stdout",
     "output_type": "stream",
     "text": [
      "Counter({-1.0: 145159, 0.0: 111471, 1.0: 33777})\n",
      "Counter({-1.0: 145086, 0.0: 111527, 1.0: 33794})\n",
      "Counter({-1.0: 145013, 0.0: 111583, 1.0: 33811})\n",
      "Counter({-1.0: 144940, 0.0: 111639, 1.0: 33828})\n",
      "Counter({-1.0: 144867, 0.0: 111695, 1.0: 33845})\n",
      "Counter({-1.0: 144794, 0.0: 111751, 1.0: 33862})\n",
      "Counter({-1.0: 144721, 0.0: 111807, 1.0: 33879})\n",
      "Counter({-1.0: 144648, 0.0: 111863, 1.0: 33896})\n",
      "Counter({-1.0: 144575, 0.0: 111919, 1.0: 33913})\n",
      "Counter({-1.0: 144502, 0.0: 111975, 1.0: 33930})\n"
     ]
    }
   ],
   "source": [
    "# targets_history = []\n",
    "\n",
    "# for z in range(10):\n",
    "#     q = np.load('../saved/rasco/targets_history_%d.npy' % z)\n",
    "#     targets_history.append(q)\n",
    "    \n",
    "#     print Counter(q)\n",
    "    \n",
    "for q in targets_history:\n",
    "    print Counter(q)"
   ]
  },
  {
   "cell_type": "code",
   "execution_count": 19,
   "metadata": {
    "collapsed": false
   },
   "outputs": [
    {
     "data": {
      "text/plain": [
       "array([ 0.,  0.,  0., ..., -1., -1., -1.])"
      ]
     },
     "execution_count": 19,
     "metadata": {},
     "output_type": "execute_result"
    }
   ],
   "source": [
    "targets_all.copy()"
   ]
  },
  {
   "cell_type": "code",
   "execution_count": 60,
   "metadata": {
    "collapsed": false
   },
   "outputs": [
    {
     "data": {
      "text/plain": [
       "(array([ 45527.,  37639.,  21537.,  13655.,   9736.,   7129.,   5153.,\n",
       "          3285.,   1401.,    170.]),\n",
       " array([ 0.00915647,  0.10402756,  0.19889865,  0.29376974,  0.38864083,\n",
       "         0.48351192,  0.578383  ,  0.67325409,  0.76812518,  0.86299627,\n",
       "         0.95786736]),\n",
       " <a list of 10 Patch objects>)"
      ]
     },
     "execution_count": 60,
     "metadata": {},
     "output_type": "execute_result"
    },
    {
     "data": {
      "image/png": "[encoded data removed]",
      "text/plain": [
       "<matplotlib.figure.Figure at 0x7f4eabe86850>"
      ]
     },
     "metadata": {},
     "output_type": "display_data"
    }
   ],
   "source": [
    "plt.hist(pred_avg)"
   ]
  },
  {
   "cell_type": "markdown",
   "metadata": {
    "collapsed": false
   },
   "source": [
    "# Full space"
   ]
  },
  {
   "cell_type": "code",
   "execution_count": 24,
   "metadata": {
    "collapsed": true
   },
   "outputs": [],
   "source": [
    "params = {}\n",
    "params['objective'] = \"binary:logistic\"\n",
    "params['eta'] = 0.01\n",
    "params['min_child_weight'] = 6\n",
    "params['subsample'] = 0.7\n",
    "params['colsample_bytree'] = 0.7\n",
    "params['max_delta_step'] = 1\n",
    "params['silent'] = 1\n",
    "params['max_depth'] = 9 #7\n",
    "params['eval_metric'] = 'auc'\n",
    "# params[\"scale_pos_weight\"] = 1.0\n",
    "params['gamma'] = 5\n",
    "params['alpha'] = 1\n",
    "# params['nthread'] = 4\n",
    "\n",
    "plst = list(params.items())\n",
    "max_rounds = 4000\n",
    "\n",
    "targets_history = np.load('../saved/rasco/targets_history.npy')"
   ]
  },
  {
   "cell_type": "code",
   "execution_count": 25,
   "metadata": {
    "collapsed": false
   },
   "outputs": [
    {
     "name": "stdout",
     "output_type": "stream",
     "text": [
      "CPU times: user 430 ms, sys: 2.51 s, total: 2.94 s\n",
      "Wall time: 39.4 s\n"
     ]
    }
   ],
   "source": [
    "%%time \n",
    "# Load data\n",
    "PATH_BOTH_FULL_BIN = '../saved/both.bin'\n",
    "\n",
    "d_full = xgb.DMatrix(PATH_BOTH_FULL_BIN)\n",
    "\n",
    "# Set targets to the last round of RASCO\n",
    "d_full.set_label(targets_history[-1, :])\n",
    "\n",
    "train_inds = np.where((d_full.get_label() != -1))[0]"
   ]
  },
  {
   "cell_type": "markdown",
   "metadata": {},
   "source": [
    "## Train"
   ]
  },
  {
   "cell_type": "code",
   "execution_count": 26,
   "metadata": {
    "collapsed": false
   },
   "outputs": [
    {
     "name": "stdout",
     "output_type": "stream",
     "text": [
      "CPU times: user 1d 19h 22min 46s, sys: 27.8 s, total: 1d 19h 23min 14s\n",
      "Wall time: 5h 30min 5s\n"
     ]
    }
   ],
   "source": [
    "%%time\n",
    "bst = xgb.train(params, d_full.slice(train_inds), max_rounds)\n",
    "bst.save_model('../saved/rasco/models/%d.model' % int(time.time()))"
   ]
  },
  {
   "cell_type": "markdown",
   "metadata": {
    "collapsed": false
   },
   "source": [
    "# Test"
   ]
  },
  {
   "cell_type": "code",
   "execution_count": 28,
   "metadata": {
    "collapsed": false
   },
   "outputs": [],
   "source": [
    "preds = bst.predict(d_full.slice(range(145175, 145175 + 145232)))\n"
   ]
  },
  {
   "cell_type": "code",
   "execution_count": 8,
   "metadata": {
    "collapsed": false
   },
   "outputs": [
    {
     "data": {
      "text/plain": [
       "290407L"
      ]
     },
     "execution_count": 8,
     "metadata": {},
     "output_type": "execute_result"
    }
   ],
   "source": []
  },
  {
   "cell_type": "markdown",
   "metadata": {},
   "source": [
    "# Create Sub"
   ]
  },
  {
   "cell_type": "code",
   "execution_count": 10,
   "metadata": {
    "collapsed": true
   },
   "outputs": [],
   "source": [
    "sub = pd.read_csv('../data/sample_submission.csv', index_col='ID')\n",
    "sub['target'] = preds\n",
    "sub.to_csv('../submissions/xgb_rasco0.05.csv')"
   ]
  },
  {
   "cell_type": "code",
   "execution_count": 27,
   "metadata": {
    "collapsed": false
   },
   "outputs": [
    {
     "name": "stdout",
     "output_type": "stream",
     "text": [
      "1\n"
     ]
    }
   ],
   "source": [
    "print 1"
   ]
  }
 ],
 "metadata": {
  "kernelspec": {
   "display_name": "Python 2",
   "language": "python",
   "name": "python2"
  },
  "language_info": {
   "codemirror_mode": {
    "name": "ipython",
    "version": 2
   },
   "file_extension": ".py",
   "mimetype": "text/x-python",
   "name": "python",
   "nbconvert_exporter": "python",
   "pygments_lexer": "ipython2",
   "version": "2.7.8"
  }
 },
 "nbformat": 4,
 "nbformat_minor": 0
}
