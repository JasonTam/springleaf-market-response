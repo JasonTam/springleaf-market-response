{
 "cells": [
  {
   "cell_type": "code",
   "execution_count": 1,
   "metadata": {
    "collapsed": true
   },
   "outputs": [],
   "source": [
    "import pandas as pd\n",
    "import xgboost as xgb\n",
    "import os\n",
    "import logging\n",
    "import time\n",
    "import cPickle as pickle\n",
    "import numpy as np\n",
    "import glob\n",
    "import gc\n",
    "\n",
    "import matplotlib.pyplot as plt\n",
    "import seaborn as sns\n",
    "%matplotlib inline\n",
    "\n",
    "from collections import Counter\n"
   ]
  },
  {
   "cell_type": "markdown",
   "metadata": {},
   "source": [
    "# XGB params"
   ]
  },
  {
   "cell_type": "code",
   "execution_count": 2,
   "metadata": {
    "collapsed": true
   },
   "outputs": [],
   "source": [
    "params = {}\n",
    "params['objective'] = \"binary:logistic\"\n",
    "params['eta'] = 0.1\n",
    "params['min_child_weight'] = 6\n",
    "params['subsample'] = 0.7\n",
    "params['colsample_bytree'] = 0.7\n",
    "params['max_delta_step'] = 1\n",
    "params['silent'] = 1\n",
    "params['max_depth'] = 9 #7\n",
    "params['eval_metric'] = 'auc'\n",
    "# params[\"scale_pos_weight\"] = 1.0\n",
    "params['gamma'] = 5\n",
    "params['alpha'] = 1\n",
    "# params['nthread'] = 4\n",
    "\n",
    "def fpreproc(dtrain, dtest, param):\n",
    "    label = dtrain.get_label()\n",
    "    ratio = float(np.sum(label == 0)) / np.sum(label==1)\n",
    "    param['scale_pos_weight'] = ratio\n",
    "    return (dtrain, dtest, param)\n",
    "\n",
    "plst = list(params.items())\n",
    "\n",
    "n_rounds = 125\n"
   ]
  },
  {
   "cell_type": "markdown",
   "metadata": {},
   "source": [
    "# Dimensions"
   ]
  },
  {
   "cell_type": "code",
   "execution_count": 3,
   "metadata": {
    "collapsed": false
   },
   "outputs": [
    {
     "name": "stdout",
     "output_type": "stream",
     "text": [
      "train \t # rows: 145175\n",
      "test \t # rows: 145232\n",
      "(145175,)\n",
      "(145232,)\n",
      "CPU times: user 117 ms, sys: 73.3 ms, total: 190 ms\n",
      "Wall time: 824 ms\n"
     ]
    }
   ],
   "source": [
    "%%time\n",
    "# Gathering some information\n",
    "PATH_STORE = '../saved/storage.h5'\n",
    "\n",
    "n_rows = {}\n",
    "slice_inds = {}\n",
    "\n",
    "for mode in ['train', 'test']:\n",
    "    cols_df = pd.read_hdf(PATH_STORE, mode, \n",
    "                           where=[\"index==0\"])\n",
    "\n",
    "    store = pd.HDFStore(PATH_STORE)\n",
    "    n_rows[mode] = store.get_storer(mode).nrows\n",
    "    store.close()\n",
    "\n",
    "    print '%s \\t # rows: %d' % (mode, n_rows[mode])\n",
    "\n",
    "\n",
    "# Initial slice inds\n",
    "slice_inds['train'] = np.arange(n_rows['train'])\n",
    "slice_inds['test'] = np.arange(n_rows['train'], n_rows['train'] + n_rows['test'])\n",
    "\n",
    "print slice_inds['train'].shape\n",
    "print slice_inds['test'].shape"
   ]
  },
  {
   "cell_type": "markdown",
   "metadata": {},
   "source": [
    "# Initial targets"
   ]
  },
  {
   "cell_type": "code",
   "execution_count": 4,
   "metadata": {
    "collapsed": false
   },
   "outputs": [
    {
     "name": "stdout",
     "output_type": "stream",
     "text": [
      "Ratio pos: 0.232546926124\n",
      "Ratio neg: 0.767453073876\n"
     ]
    }
   ],
   "source": [
    "targets_train = np.array(pd.read_pickle('../saved/train_targets.p')['target'])\n",
    "rat_pos, rat_neg = [(targets_train == v).sum() / float(len(targets_train)) for v in [1, 0]]\n",
    "print 'Ratio pos:', rat_pos\n",
    "print 'Ratio neg:', rat_neg\n",
    "\n",
    "# Initial targets_all\n",
    "targets_all = np.concatenate([targets_train, -1*np.ones(n_rows['test'])])"
   ]
  },
  {
   "cell_type": "code",
   "execution_count": 5,
   "metadata": {
    "collapsed": false
   },
   "outputs": [
    {
     "name": "stdout",
     "output_type": "stream",
     "text": [
      "5\n"
     ]
    }
   ],
   "source": [
    "PATH_LIBSVM = '../saved/rasco/both_sub%d.libsvm'\n",
    "\n",
    "n_subsp = len(glob.glob(PATH_LIBSVM.replace('%d', '%s') % '*'))\n",
    "print n_subsp\n"
   ]
  },
  {
   "cell_type": "code",
   "execution_count": 6,
   "metadata": {
    "collapsed": false
   },
   "outputs": [],
   "source": [
    "def get_transfers(preds_arr, test_inds, xfer_base_perc=2):\n",
    "    pred_avg = preds_arr.mean(axis=0)\n",
    "\n",
    "    # Positive candidates\n",
    "    perc_top = np.percentile(pred_avg, 100 - xfer_base_perc*rat_pos)\n",
    "    xfer_pos_bools = pred_avg > perc_top\n",
    "    print '# Pos xfer:', sum(xfer_pos_bools), '@ thresh:', perc_top\n",
    "\n",
    "    # Negative candidates\n",
    "    perc_bot = np.percentile(pred_avg, xfer_base_perc*rat_neg)\n",
    "    xfer_neg_bools = pred_avg < perc_bot\n",
    "    print '# Neg xfer:', sum(xfer_neg_bools), '@ thresh:', perc_bot\n",
    "\n",
    "    xfer_pos_inds = test_inds[xfer_pos_bools]\n",
    "    xfer_neg_inds = test_inds[xfer_neg_bools]\n",
    "    \n",
    "    return xfer_pos_inds, xfer_neg_inds"
   ]
  },
  {
   "cell_type": "code",
   "execution_count": 19,
   "metadata": {
    "collapsed": false
   },
   "outputs": [
    {
     "name": "stdout",
     "output_type": "stream",
     "text": [
      "ITER 1\n",
      "Processing subspace # 0\n",
      "Processing subspace # 1\n",
      "Processing subspace # 2\n",
      "Processing subspace # 3\n",
      "Processing subspace # 4\n",
      "# Pos xfer: 662 @ thresh: 0.798977342888\n",
      "# Neg xfer: 662 @ thresh: 0.0284520801622\n",
      "ITER 2\n",
      "Processing subspace # 0\n",
      "Processing subspace # 1\n",
      "Processing subspace # 2\n",
      "Processing subspace # 3\n",
      "Processing subspace # 4\n",
      "# Pos xfer: 649 @ thresh: 0.791265591149\n",
      "# Neg xfer: 649 @ thresh: 0.0308419115633\n",
      "ITER 3\n",
      "Processing subspace # 0\n",
      "Processing subspace # 1\n",
      "Processing subspace # 2\n",
      "Processing subspace # 3\n",
      "Processing subspace # 4\n",
      "# Pos xfer: 637 @ thresh: 0.782731838599\n",
      "# Neg xfer: 637 @ thresh: 0.0329496654684\n",
      "ITER 4\n",
      "Processing subspace # 0\n",
      "Processing subspace # 1\n",
      "Processing subspace # 2\n",
      "Processing subspace # 3\n",
      "Processing subspace # 4\n",
      "# Pos xfer: 625 @ thresh: 0.773411952255\n",
      "# Neg xfer: 625 @ thresh: 0.0351133489022\n",
      "ITER 5\n",
      "Processing subspace # 0\n",
      "Processing subspace # 1\n",
      "Processing subspace # 2\n",
      "Processing subspace # 3\n",
      "Processing subspace # 4\n",
      "# Pos xfer: 613 @ thresh: 0.768624823353\n",
      "# Neg xfer: 613 @ thresh: 0.0370607161848\n",
      "ITER 6\n",
      "Processing subspace # 0\n",
      "Processing subspace # 1\n",
      "Processing subspace # 2\n",
      "Processing subspace # 3\n",
      "Processing subspace # 4\n",
      "# Pos xfer: 602 @ thresh: 0.760577574279\n",
      "# Neg xfer: 602 @ thresh: 0.0391409284225\n",
      "ITER 7\n",
      "Processing subspace # 0\n",
      "Processing subspace # 1\n",
      "Processing subspace # 2\n"
     ]
    },
    {
     "ename": "KeyboardInterrupt",
     "evalue": "",
     "output_type": "error",
     "traceback": [
      "\u001b[1;31m---------------------------------------------------------------------------\u001b[0m",
      "\u001b[1;31mKeyboardInterrupt\u001b[0m                         Traceback (most recent call last)",
      "\u001b[1;32m<ipython-input-19-e9c7055b3cdd>\u001b[0m in \u001b[0;36m<module>\u001b[1;34m()\u001b[0m\n\u001b[1;32m----> 1\u001b[1;33m \u001b[0mget_ipython\u001b[0m\u001b[1;33m(\u001b[0m\u001b[1;33m)\u001b[0m\u001b[1;33m.\u001b[0m\u001b[0mrun_cell_magic\u001b[0m\u001b[1;33m(\u001b[0m\u001b[1;34mu'time'\u001b[0m\u001b[1;33m,\u001b[0m \u001b[1;34mu''\u001b[0m\u001b[1;33m,\u001b[0m \u001b[1;34mu\"PATH_SAVE_BIN = '/tmp/both_sub%d.bin'\\n\\nn_iters = 10\\ntargets_history = []\\n\\nfor t in range(n_iters)[1:]:\\n    print 'ITER %s' % t\\n\\n    preds_arr = np.zeros((n_subsp, sum(targets_all == -1)))\\n\\n    for sub_i in range(n_subsp):\\n        print 'Processing subspace # %d' % sub_i\\n\\n        # Get DMatrix for this subspace\\n        d_sub = xgb.DMatrix(PATH_SAVE_BIN % sub_i)\\n\\n        # Apply transfers from previous iteration\\n        d_sub.set_label(targets_all)\\n\\n        # Get new indices of train and test rows\\n        slice_inds['train'] = np.where((d_sub.get_label() != -1))[0]\\n        slice_inds['test'] = np.where((d_sub.get_label() == -1))[0]\\n\\n        # Train model\\n        model = xgb.train(params, d_sub.slice(slice_inds['train']), num_boost_round=n_rounds, )\\n\\n        # Predict test\\n        preds = model.predict(d_sub.slice(slice_inds['test']))\\n        preds_arr[sub_i, :] = preds\\n\\n        del d_sub\\n        gc.collect()\\n    #     break\\n\\n    # Get transfers\\n    xfer_pos_inds, xfer_neg_inds = get_transfers(preds_arr)\\n\\n    # Transfer\\n    targets_all[xfer_pos_inds] = 1\\n    targets_all[xfer_neg_inds] = 0\\n\\n    targets_history.append(targets_all)\\n\\n    # Save history\\n    np.save('../saved/rasco/targets_history.npy', np.array(targets_history))\\n    \\n    \"\u001b[0m\u001b[1;33m)\u001b[0m\u001b[1;33m\u001b[0m\u001b[0m\n\u001b[0m",
      "\u001b[1;32m/usr/lib/python2.7/site-packages/IPython/core/interactiveshell.pyc\u001b[0m in \u001b[0;36mrun_cell_magic\u001b[1;34m(self, magic_name, line, cell)\u001b[0m\n\u001b[0;32m   2291\u001b[0m             \u001b[0mmagic_arg_s\u001b[0m \u001b[1;33m=\u001b[0m \u001b[0mself\u001b[0m\u001b[1;33m.\u001b[0m\u001b[0mvar_expand\u001b[0m\u001b[1;33m(\u001b[0m\u001b[0mline\u001b[0m\u001b[1;33m,\u001b[0m \u001b[0mstack_depth\u001b[0m\u001b[1;33m)\u001b[0m\u001b[1;33m\u001b[0m\u001b[0m\n\u001b[0;32m   2292\u001b[0m             \u001b[1;32mwith\u001b[0m \u001b[0mself\u001b[0m\u001b[1;33m.\u001b[0m\u001b[0mbuiltin_trap\u001b[0m\u001b[1;33m:\u001b[0m\u001b[1;33m\u001b[0m\u001b[0m\n\u001b[1;32m-> 2293\u001b[1;33m                 \u001b[0mresult\u001b[0m \u001b[1;33m=\u001b[0m \u001b[0mfn\u001b[0m\u001b[1;33m(\u001b[0m\u001b[0mmagic_arg_s\u001b[0m\u001b[1;33m,\u001b[0m \u001b[0mcell\u001b[0m\u001b[1;33m)\u001b[0m\u001b[1;33m\u001b[0m\u001b[0m\n\u001b[0m\u001b[0;32m   2294\u001b[0m             \u001b[1;32mreturn\u001b[0m \u001b[0mresult\u001b[0m\u001b[1;33m\u001b[0m\u001b[0m\n\u001b[0;32m   2295\u001b[0m \u001b[1;33m\u001b[0m\u001b[0m\n",
      "\u001b[1;32m/usr/lib/python2.7/site-packages/IPython/core/magics/execution.pyc\u001b[0m in \u001b[0;36mtime\u001b[1;34m(self, line, cell, local_ns)\u001b[0m\n",
      "\u001b[1;32m/usr/lib/python2.7/site-packages/IPython/core/magic.pyc\u001b[0m in \u001b[0;36m<lambda>\u001b[1;34m(f, *a, **k)\u001b[0m\n\u001b[0;32m    191\u001b[0m     \u001b[1;31m# but it's overkill for just that one bit of state.\u001b[0m\u001b[1;33m\u001b[0m\u001b[1;33m\u001b[0m\u001b[0m\n\u001b[0;32m    192\u001b[0m     \u001b[1;32mdef\u001b[0m \u001b[0mmagic_deco\u001b[0m\u001b[1;33m(\u001b[0m\u001b[0marg\u001b[0m\u001b[1;33m)\u001b[0m\u001b[1;33m:\u001b[0m\u001b[1;33m\u001b[0m\u001b[0m\n\u001b[1;32m--> 193\u001b[1;33m         \u001b[0mcall\u001b[0m \u001b[1;33m=\u001b[0m \u001b[1;32mlambda\u001b[0m \u001b[0mf\u001b[0m\u001b[1;33m,\u001b[0m \u001b[1;33m*\u001b[0m\u001b[0ma\u001b[0m\u001b[1;33m,\u001b[0m \u001b[1;33m**\u001b[0m\u001b[0mk\u001b[0m\u001b[1;33m:\u001b[0m \u001b[0mf\u001b[0m\u001b[1;33m(\u001b[0m\u001b[1;33m*\u001b[0m\u001b[0ma\u001b[0m\u001b[1;33m,\u001b[0m \u001b[1;33m**\u001b[0m\u001b[0mk\u001b[0m\u001b[1;33m)\u001b[0m\u001b[1;33m\u001b[0m\u001b[0m\n\u001b[0m\u001b[0;32m    194\u001b[0m \u001b[1;33m\u001b[0m\u001b[0m\n\u001b[0;32m    195\u001b[0m         \u001b[1;32mif\u001b[0m \u001b[0mcallable\u001b[0m\u001b[1;33m(\u001b[0m\u001b[0marg\u001b[0m\u001b[1;33m)\u001b[0m\u001b[1;33m:\u001b[0m\u001b[1;33m\u001b[0m\u001b[0m\n",
      "\u001b[1;32m/usr/lib/python2.7/site-packages/IPython/core/magics/execution.pyc\u001b[0m in \u001b[0;36mtime\u001b[1;34m(self, line, cell, local_ns)\u001b[0m\n\u001b[0;32m   1165\u001b[0m         \u001b[1;32melse\u001b[0m\u001b[1;33m:\u001b[0m\u001b[1;33m\u001b[0m\u001b[0m\n\u001b[0;32m   1166\u001b[0m             \u001b[0mst\u001b[0m \u001b[1;33m=\u001b[0m \u001b[0mclock2\u001b[0m\u001b[1;33m(\u001b[0m\u001b[1;33m)\u001b[0m\u001b[1;33m\u001b[0m\u001b[0m\n\u001b[1;32m-> 1167\u001b[1;33m             \u001b[1;32mexec\u001b[0m\u001b[1;33m(\u001b[0m\u001b[0mcode\u001b[0m\u001b[1;33m,\u001b[0m \u001b[0mglob\u001b[0m\u001b[1;33m,\u001b[0m \u001b[0mlocal_ns\u001b[0m\u001b[1;33m)\u001b[0m\u001b[1;33m\u001b[0m\u001b[0m\n\u001b[0m\u001b[0;32m   1168\u001b[0m             \u001b[0mend\u001b[0m \u001b[1;33m=\u001b[0m \u001b[0mclock2\u001b[0m\u001b[1;33m(\u001b[0m\u001b[1;33m)\u001b[0m\u001b[1;33m\u001b[0m\u001b[0m\n\u001b[0;32m   1169\u001b[0m             \u001b[0mout\u001b[0m \u001b[1;33m=\u001b[0m \u001b[0mNone\u001b[0m\u001b[1;33m\u001b[0m\u001b[0m\n",
      "\u001b[1;32m<timed exec>\u001b[0m in \u001b[0;36m<module>\u001b[1;34m()\u001b[0m\n",
      "\u001b[1;32m/usr/lib/python2.7/site-packages/xgboost-0.4-py2.7.egg/xgboost/training.pyc\u001b[0m in \u001b[0;36mtrain\u001b[1;34m(params, dtrain, num_boost_round, evals, obj, feval, early_stopping_rounds, evals_result, verbose_eval)\u001b[0m\n\u001b[0;32m     60\u001b[0m     \u001b[1;32mif\u001b[0m \u001b[1;32mnot\u001b[0m \u001b[0mearly_stopping_rounds\u001b[0m\u001b[1;33m:\u001b[0m\u001b[1;33m\u001b[0m\u001b[0m\n\u001b[0;32m     61\u001b[0m         \u001b[1;32mfor\u001b[0m \u001b[0mi\u001b[0m \u001b[1;32min\u001b[0m \u001b[0mrange\u001b[0m\u001b[1;33m(\u001b[0m\u001b[0mnum_boost_round\u001b[0m\u001b[1;33m)\u001b[0m\u001b[1;33m:\u001b[0m\u001b[1;33m\u001b[0m\u001b[0m\n\u001b[1;32m---> 62\u001b[1;33m             \u001b[0mbst\u001b[0m\u001b[1;33m.\u001b[0m\u001b[0mupdate\u001b[0m\u001b[1;33m(\u001b[0m\u001b[0mdtrain\u001b[0m\u001b[1;33m,\u001b[0m \u001b[0mi\u001b[0m\u001b[1;33m,\u001b[0m \u001b[0mobj\u001b[0m\u001b[1;33m)\u001b[0m\u001b[1;33m\u001b[0m\u001b[0m\n\u001b[0m\u001b[0;32m     63\u001b[0m             \u001b[1;32mif\u001b[0m \u001b[0mlen\u001b[0m\u001b[1;33m(\u001b[0m\u001b[0mevals\u001b[0m\u001b[1;33m)\u001b[0m \u001b[1;33m!=\u001b[0m \u001b[1;36m0\u001b[0m\u001b[1;33m:\u001b[0m\u001b[1;33m\u001b[0m\u001b[0m\n\u001b[0;32m     64\u001b[0m                 \u001b[0mbst_eval_set\u001b[0m \u001b[1;33m=\u001b[0m \u001b[0mbst\u001b[0m\u001b[1;33m.\u001b[0m\u001b[0meval_set\u001b[0m\u001b[1;33m(\u001b[0m\u001b[0mevals\u001b[0m\u001b[1;33m,\u001b[0m \u001b[0mi\u001b[0m\u001b[1;33m,\u001b[0m \u001b[0mfeval\u001b[0m\u001b[1;33m)\u001b[0m\u001b[1;33m\u001b[0m\u001b[0m\n",
      "\u001b[1;32m/usr/lib/python2.7/site-packages/xgboost-0.4-py2.7.egg/xgboost/core.pyc\u001b[0m in \u001b[0;36mupdate\u001b[1;34m(self, dtrain, iteration, fobj)\u001b[0m\n\u001b[0;32m    515\u001b[0m             \u001b[1;32mraise\u001b[0m \u001b[0mTypeError\u001b[0m\u001b[1;33m(\u001b[0m\u001b[1;34m'invalid training matrix: {}'\u001b[0m\u001b[1;33m.\u001b[0m\u001b[0mformat\u001b[0m\u001b[1;33m(\u001b[0m\u001b[0mtype\u001b[0m\u001b[1;33m(\u001b[0m\u001b[0mdtrain\u001b[0m\u001b[1;33m)\u001b[0m\u001b[1;33m.\u001b[0m\u001b[0m__name__\u001b[0m\u001b[1;33m)\u001b[0m\u001b[1;33m)\u001b[0m\u001b[1;33m\u001b[0m\u001b[0m\n\u001b[0;32m    516\u001b[0m         \u001b[1;32mif\u001b[0m \u001b[0mfobj\u001b[0m \u001b[1;32mis\u001b[0m \u001b[0mNone\u001b[0m\u001b[1;33m:\u001b[0m\u001b[1;33m\u001b[0m\u001b[0m\n\u001b[1;32m--> 517\u001b[1;33m             \u001b[0m_check_call\u001b[0m\u001b[1;33m(\u001b[0m\u001b[0m_LIB\u001b[0m\u001b[1;33m.\u001b[0m\u001b[0mXGBoosterUpdateOneIter\u001b[0m\u001b[1;33m(\u001b[0m\u001b[0mself\u001b[0m\u001b[1;33m.\u001b[0m\u001b[0mhandle\u001b[0m\u001b[1;33m,\u001b[0m \u001b[0miteration\u001b[0m\u001b[1;33m,\u001b[0m \u001b[0mdtrain\u001b[0m\u001b[1;33m.\u001b[0m\u001b[0mhandle\u001b[0m\u001b[1;33m)\u001b[0m\u001b[1;33m)\u001b[0m\u001b[1;33m\u001b[0m\u001b[0m\n\u001b[0m\u001b[0;32m    518\u001b[0m         \u001b[1;32melse\u001b[0m\u001b[1;33m:\u001b[0m\u001b[1;33m\u001b[0m\u001b[0m\n\u001b[0;32m    519\u001b[0m             \u001b[0mpred\u001b[0m \u001b[1;33m=\u001b[0m \u001b[0mself\u001b[0m\u001b[1;33m.\u001b[0m\u001b[0mpredict\u001b[0m\u001b[1;33m(\u001b[0m\u001b[0mdtrain\u001b[0m\u001b[1;33m)\u001b[0m\u001b[1;33m\u001b[0m\u001b[0m\n",
      "\u001b[1;31mKeyboardInterrupt\u001b[0m: "
     ]
    }
   ],
   "source": [
    "%%time\n",
    "PATH_SAVE_BIN = '/tmp/both_sub%d.bin'\n",
    "\n",
    "n_iters = 10\n",
    "targets_history = []\n",
    "\n",
    "for t in range(n_iters):\n",
    "    print 'ITER %s' % t\n",
    "\n",
    "    preds_arr = np.zeros((n_subsp, sum(targets_all == -1)))\n",
    "\n",
    "    for sub_i in range(n_subsp):\n",
    "        print 'Processing subspace # %d' % sub_i\n",
    "\n",
    "        # Get DMatrix for this subspace\n",
    "        d_sub = xgb.DMatrix(PATH_SAVE_BIN % sub_i)\n",
    "\n",
    "        # Apply transfers from previous iteration\n",
    "        d_sub.set_label(targets_all)\n",
    "\n",
    "        # Get new indices of train and test rows\n",
    "        slice_inds['train'] = np.where((d_sub.get_label() != -1))[0]\n",
    "        slice_inds['test'] = np.where((d_sub.get_label() == -1))[0]\n",
    "\n",
    "        # Train model\n",
    "        model = xgb.train(params, d_sub.slice(slice_inds['train']), num_boost_round=n_rounds, )\n",
    "\n",
    "        # Predict test\n",
    "        preds = model.predict(d_sub.slice(slice_inds['test']))\n",
    "        preds_arr[sub_i, :] = preds\n",
    "\n",
    "        del d_sub\n",
    "        gc.collect()\n",
    "    #     break\n",
    "\n",
    "    # Get transfers\n",
    "    xfer_pos_inds, xfer_neg_inds = get_transfers(preds_arr, test_inds=np.where(targets_all == -1)[0])\n",
    "\n",
    "    # Transfer\n",
    "    print 'Distribution before transfer:', Counter(targets_all)\n",
    "    targets_all[xfer_pos_inds] = 1\n",
    "    targets_all[xfer_neg_inds] = 0\n",
    "    print 'Distribution after transfer:', Counter(targets_all)\n",
    "\n",
    "    targets_history.append(targets_all)\n",
    "\n",
    "    # Save history\n",
    "    np.save('../saved/rasco/targets_history.npy', np.array(targets_history))\n",
    "    np.save('../saved/rasco/targets_history_%d.npy' % t, targets_all)\n",
    "    \n",
    "    "
   ]
  },
  {
   "cell_type": "code",
   "execution_count": 105,
   "metadata": {
    "collapsed": false
   },
   "outputs": [
    {
     "name": "stdout",
     "output_type": "stream",
     "text": [
      "# Pos xfer: 676 @ thresh: 0.812927515762\n",
      "# Neg xfer: 2230 @ thresh: 0.0257857572351\n"
     ]
    }
   ],
   "source": [
    "\n"
   ]
  },
  {
   "cell_type": "code",
   "execution_count": 75,
   "metadata": {
    "collapsed": false
   },
   "outputs": [
    {
     "data": {
      "text/plain": [
       "0.023273107855000003"
      ]
     },
     "execution_count": 75,
     "metadata": {},
     "output_type": "execute_result"
    }
   ],
   "source": [
    "targets_all"
   ]
  },
  {
   "cell_type": "code",
   "execution_count": 60,
   "metadata": {
    "collapsed": false
   },
   "outputs": [
    {
     "data": {
      "text/plain": [
       "(array([ 45527.,  37639.,  21537.,  13655.,   9736.,   7129.,   5153.,\n",
       "          3285.,   1401.,    170.]),\n",
       " array([ 0.00915647,  0.10402756,  0.19889865,  0.29376974,  0.38864083,\n",
       "         0.48351192,  0.578383  ,  0.67325409,  0.76812518,  0.86299627,\n",
       "         0.95786736]),\n",
       " <a list of 10 Patch objects>)"
      ]
     },
     "execution_count": 60,
     "metadata": {},
     "output_type": "execute_result"
    },
    {
     "data": {
      "image/png": "[encoded data removed]",
      "text/plain": [
       "<matplotlib.figure.Figure at 0x7f4eabe86850>"
      ]
     },
     "metadata": {},
     "output_type": "display_data"
    }
   ],
   "source": [
    "plt.hist(pred_avg)"
   ]
  },
  {
   "cell_type": "code",
   "execution_count": 94,
   "metadata": {
    "collapsed": false
   },
   "outputs": [
    {
     "data": {
      "text/plain": [
       "True"
      ]
     },
     "execution_count": 94,
     "metadata": {},
     "output_type": "execute_result"
    }
   ],
   "source": [
    "all(d_sub.get_label() == targets_all)"
   ]
  },
  {
   "cell_type": "code",
   "execution_count": 98,
   "metadata": {
    "collapsed": false
   },
   "outputs": [
    {
     "name": "stdout",
     "output_type": "stream",
     "text": [
      "145232\n",
      "(145232,)\n"
     ]
    }
   ],
   "source": [
    "print (targets_all == -1).sum()\n",
    "print xfer_pos_inds.shape"
   ]
  },
  {
   "cell_type": "code",
   "execution_count": 115,
   "metadata": {
    "collapsed": false
   },
   "outputs": [],
   "source": [
    "test_inds = np.where(targets_all == -1)[0]\n"
   ]
  },
  {
   "cell_type": "code",
   "execution_count": 13,
   "metadata": {
    "collapsed": false
   },
   "outputs": [
    {
     "name": "stdout",
     "output_type": "stream",
     "text": [
      "# Pos xfer: 676 @ thresh: 0.812927515762\n",
      "# Neg xfer: 676 @ thresh: 0.0257857572351\n"
     ]
    }
   ],
   "source": [
    "xfer_pos_inds, xfer_neg_inds = get_transfers(preds_arr)\n",
    "\n",
    "# Transfer\n",
    "targets_all[xfer_pos_inds] = 1\n",
    "targets_all[xfer_neg_inds] = 0\n",
    "\n",
    "targets_history.append(targets_all)\n",
    "\n",
    "# Save history\n",
    "np.save('../saved/rasco/targets_history.npy', np.array(targets_history))"
   ]
  },
  {
   "cell_type": "code",
   "execution_count": 21,
   "metadata": {
    "collapsed": false
   },
   "outputs": [
    {
     "data": {
      "text/plain": [
       "9"
      ]
     },
     "execution_count": 21,
     "metadata": {},
     "output_type": "execute_result"
    }
   ],
   "source": [
    "gc.collect()"
   ]
  }
 ],
 "metadata": {
  "kernelspec": {
   "display_name": "Python 2",
   "language": "python",
   "name": "python2"
  },
  "language_info": {
   "codemirror_mode": {
    "name": "ipython",
    "version": 2
   },
   "file_extension": ".py",
   "mimetype": "text/x-python",
   "name": "python",
   "nbconvert_exporter": "python",
   "pygments_lexer": "ipython2",
   "version": "2.7.8"
  }
 },
 "nbformat": 4,
 "nbformat_minor": 0
}
