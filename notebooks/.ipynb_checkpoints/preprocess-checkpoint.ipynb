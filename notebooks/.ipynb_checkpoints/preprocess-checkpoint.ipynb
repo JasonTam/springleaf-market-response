{
 "cells": [
  {
   "cell_type": "code",
   "execution_count": 1,
   "metadata": {
    "collapsed": true
   },
   "outputs": [],
   "source": [
    "import pandas as pd\n",
    "import numpy as np\n",
    "from collections import Counter\n",
    "import os\n",
    "import matplotlib.pyplot as plt\n",
    "%matplotlib inline\n",
    "import seaborn as sns\n",
    "from scipy.stats.stats import pearsonr\n",
    "\n",
    "from sklearn.preprocessing import LabelEncoder\n",
    "\n",
    "from time import time\n",
    "from collections import Counter\n",
    "import cPickle as pickle"
   ]
  },
  {
   "cell_type": "code",
   "execution_count": 2,
   "metadata": {
    "collapsed": false
   },
   "outputs": [
    {
     "name": "stdout",
     "output_type": "stream",
     "text": [
      "train\n"
     ]
    }
   ],
   "source": [
    "PATH_CSV = '../data/train.csv'\n",
    "# PATH_CSV = '../data/train_med.csv'\n",
    "# PATH_CSV = '../data/test.csv'\n",
    "mode = os.path.splitext(os.path.basename(PATH_CSV))[0]\n",
    "print mode"
   ]
  },
  {
   "cell_type": "code",
   "execution_count": null,
   "metadata": {
    "collapsed": false
   },
   "outputs": [],
   "source": [
    "%%time\n",
    "dateparser = lambda x: pd.to_datetime(x, format='%d%b%y:%H:%M:%S', coerce=True)\n",
    "\n",
    "date_cols = ['VAR_0073', 'VAR_0075', 'VAR_0204', 'VAR_0217',\n",
    "             'VAR_0156', 'VAR_0157', 'VAR_0158', 'VAR_0159', \n",
    "             'VAR_0166', 'VAR_0167', 'VAR_0168', 'VAR_0169', \n",
    "             'VAR_0176', 'VAR_0177', 'VAR_0178', 'VAR_0179']\n",
    "\n",
    "df = pd.read_csv(PATH_CSV, parse_dates=date_cols, date_parser=dateparser,\n",
    "                      index_col='ID', engine='c')\n",
    "\n",
    "print df.shape"
   ]
  },
  {
   "cell_type": "code",
   "execution_count": 4,
   "metadata": {
    "collapsed": false
   },
   "outputs": [
    {
     "name": "stdout",
     "output_type": "stream",
     "text": [
      "(145175, 1933)\n"
     ]
    }
   ],
   "source": [
    "# Drop useless rows\n",
    "if mode == 'train':\n",
    "    df.dropna(subset=['VAR_0008'], axis=0, inplace=True)\n",
    "print df.shape"
   ]
  },
  {
   "cell_type": "code",
   "execution_count": 5,
   "metadata": {
    "collapsed": false
   },
   "outputs": [
    {
     "name": "stdout",
     "output_type": "stream",
     "text": [
      "(145175, 1889)\n"
     ]
    }
   ],
   "source": [
    "# Drop useless columns\n",
    "useless_col_path = '../saved/useless_cols.p'\n",
    "if os.path.exists(useless_col_path):\n",
    "    useless_cols = pickle.load(open(useless_col_path, 'rb'))\n",
    "else:\n",
    "    useless_cols = set()\n",
    "    for col in df.columns:\n",
    "        if len(df[col].unique()) == 1:\n",
    "            useless_cols.add(col)\n",
    "\n",
    "    pickle.dump(useless_cols, open('../saved/useless_cols.p', 'wb'))\n",
    "\n",
    "df.drop(useless_cols, axis=1, inplace=True)\n",
    "print df.shape"
   ]
  },
  {
   "cell_type": "code",
   "execution_count": 6,
   "metadata": {
    "collapsed": false
   },
   "outputs": [
    {
     "name": "stdout",
     "output_type": "stream",
     "text": [
      "(145175, 1884)\n"
     ]
    }
   ],
   "source": [
    "# Drop columns that we may want to deal with later\n",
    "# VAR_0200 > city\n",
    "# VAR_0404 > another occupation?\n",
    "# VAR_0493 > occupation\n",
    "# VAR_0205 > continuous, but most rows are NaN\n",
    "# VAR_0214 > social sec digits or phone #? most rows are NaN\n",
    "\n",
    "handle_later_cols = [\n",
    "    'VAR_0200', 'VAR_0404', 'VAR_0493', 'VAR_0205', 'VAR_0214',\n",
    "]\n",
    "df.drop(handle_later_cols, axis=1, inplace=True)\n",
    "print df.shape\n"
   ]
  },
  {
   "cell_type": "markdown",
   "metadata": {},
   "source": [
    "# Transform date columns"
   ]
  },
  {
   "cell_type": "code",
   "execution_count": 7,
   "metadata": {
    "collapsed": false
   },
   "outputs": [
    {
     "name": "stdout",
     "output_type": "stream",
     "text": [
      "(145175, 1961)\n",
      "CPU times: user 1.21 s, sys: 940 ms, total: 2.15 s\n",
      "Wall time: 2.1 s\n"
     ]
    }
   ],
   "source": [
    "%%time\n",
    "for col in date_cols:\n",
    "    dti = pd.DatetimeIndex(df[col])\n",
    "    df[col + '-year'] = dti.year\n",
    "    df[col + '-month'] = dti.month\n",
    "    df[col + '-dom'] = dti.day\n",
    "    df[col + '-dow'] = dti.dayofweek\n",
    "    df[col + '-doy'] = dti.dayofyear\n",
    "    \n",
    "    if any(df[col].isnull()):\n",
    "        df[col + '-null'] = df[col].isnull()\n",
    "        df[col + '-year'].fillna(0, inplace=True)\n",
    "        df[col + '-month'].fillna(0, inplace=True)\n",
    "        df[col + '-dom'].fillna(0, inplace=True)\n",
    "        df[col + '-dow'].fillna(0, inplace=True)\n",
    "        df[col + '-doy'].fillna(0, inplace=True)\n",
    "df.drop(date_cols, axis=1, inplace=True)\n",
    "\n",
    "print df.shape"
   ]
  },
  {
   "cell_type": "markdown",
   "metadata": {},
   "source": [
    "# One hot encoding the text columns"
   ]
  },
  {
   "cell_type": "code",
   "execution_count": 8,
   "metadata": {
    "collapsed": false
   },
   "outputs": [
    {
     "name": "stdout",
     "output_type": "stream",
     "text": [
      "CPU times: user 2.69 s, sys: 53.3 ms, total: 2.75 s\n",
      "Wall time: 2.7 s\n"
     ]
    }
   ],
   "source": [
    "%%time\n",
    "str_cols = []\n",
    "num_cols = []\n",
    "for col in df.columns:\n",
    "    if type(df[col][df[col].notnull()].iloc[0]) is str:\n",
    "        str_cols.append(col)\n",
    "    else:\n",
    "        num_cols.append(col)"
   ]
  },
  {
   "cell_type": "code",
   "execution_count": 24,
   "metadata": {
    "collapsed": false
   },
   "outputs": [
    {
     "name": "stdout",
     "output_type": "stream",
     "text": [
      "(145175, 2153)\n",
      "CPU times: user 24 s, sys: 59.4 s, total: 1min 23s\n",
      "Wall time: 3min 16s\n"
     ]
    }
   ],
   "source": [
    "%%time\n",
    "# one hot encode\n",
    "\n",
    "for col in str_cols:\n",
    "#     enc = pd.get_dummies(pd.concat([train_pd[col], test_pd[col]]))\n",
    "    enc = pd.get_dummies(df[col])\n",
    "    enc.columns = ['-'.join([col, str(enc_col)]) for enc_col in enc.columns]\n",
    "    \n",
    "    df = pd.concat([df, enc[:len(df)].astype(bool)], axis=1)\n",
    "    df.drop(col, axis=1, inplace=True)\n",
    "#     test_pd = pd.concat([test_pd, enc[-len(test_pd):].astype(bool)], axis=1)\n",
    "#     test_pd.drop(col, axis=1, inplace=True)\n",
    "\n",
    "print df.shape"
   ]
  },
  {
   "cell_type": "markdown",
   "metadata": {},
   "source": [
    "## Fill Nan"
   ]
  },
  {
   "cell_type": "code",
   "execution_count": 25,
   "metadata": {
    "collapsed": true
   },
   "outputs": [],
   "source": [
    "df.fillna(0, inplace=True)"
   ]
  },
  {
   "cell_type": "markdown",
   "metadata": {},
   "source": [
    "## Convert boolean objects to int"
   ]
  },
  {
   "cell_type": "code",
   "execution_count": 26,
   "metadata": {
    "collapsed": false
   },
   "outputs": [
    {
     "name": "stdout",
     "output_type": "stream",
     "text": [
      "(145175, 2153)\n"
     ]
    }
   ],
   "source": [
    "g = df.columns.to_series().groupby(df.dtypes).groups\n",
    "if np.dtype('O') in g.keys():\n",
    "    obj_cols = g[np.dtype('O')]\n",
    "    for col in  obj_cols:\n",
    "        df[col] = df[col].astype(int)\n",
    "print df.shape"
   ]
  },
  {
   "cell_type": "markdown",
   "metadata": {},
   "source": [
    "# Remove test columns not in training"
   ]
  },
  {
   "cell_type": "code",
   "execution_count": 27,
   "metadata": {
    "collapsed": false
   },
   "outputs": [
    {
     "name": "stdout",
     "output_type": "stream",
     "text": [
      "(145175, 2153)\n",
      "CPU times: user 3.33 ms, sys: 60 ms, total: 63.3 ms\n",
      "Wall time: 1.37 s\n"
     ]
    }
   ],
   "source": [
    "%%time\n",
    "\n",
    "if mode == 'test':\n",
    "    train_cols = pickle.load(open('../saved/train_cols.p', 'rb'))\n",
    "    for col in df.columns:\n",
    "        if col not in train_cols:\n",
    "            df.drop(col, axis=1, inplace=True)\n",
    "    print train_cols.shape  \n",
    "elif mode == 'train':\n",
    "    pickle.dump(df.columns, open('../saved/train_cols.p', 'wb'))\n",
    "    \n",
    "print df.shape\n",
    "          "
   ]
  },
  {
   "cell_type": "markdown",
   "metadata": {},
   "source": [
    "# Insert empty column for any remaining columns present in train but not test"
   ]
  },
  {
   "cell_type": "code",
   "execution_count": 28,
   "metadata": {
    "collapsed": false
   },
   "outputs": [
    {
     "name": "stdout",
     "output_type": "stream",
     "text": [
      "(145175, 2153)\n",
      "CPU times: user 0 ns, sys: 0 ns, total: 0 ns\n",
      "Wall time: 62 µs\n"
     ]
    }
   ],
   "source": [
    "%%time\n",
    "\n",
    "if mode == 'test':\n",
    "    for col in set(train_cols) - set(df.columns) - {'target'}:\n",
    "        df[col] = np.zeros(len(df))\n",
    "print df.shape"
   ]
  },
  {
   "cell_type": "markdown",
   "metadata": {},
   "source": [
    "# Re-order columns to be the same order as train_cols"
   ]
  },
  {
   "cell_type": "code",
   "execution_count": 29,
   "metadata": {
    "collapsed": false
   },
   "outputs": [
    {
     "name": "stdout",
     "output_type": "stream",
     "text": [
      "(145175, 2153)\n"
     ]
    }
   ],
   "source": [
    "if mode == 'test':\n",
    "    df = df[train_cols.drop('target')]\n",
    "print df.shape"
   ]
  },
  {
   "cell_type": "markdown",
   "metadata": {},
   "source": [
    "# Save"
   ]
  },
  {
   "cell_type": "code",
   "execution_count": null,
   "metadata": {
    "collapsed": false
   },
   "outputs": [],
   "source": [
    "# %%time\n",
    "# Pickle\n",
    "# df.to_pickle('../saved/train_preprocd_pd.p')"
   ]
  },
  {
   "cell_type": "code",
   "execution_count": 30,
   "metadata": {
    "collapsed": false,
    "scrolled": true
   },
   "outputs": [
    {
     "name": "stdout",
     "output_type": "stream",
     "text": [
      "CPU times: user 6.65 s, sys: 2min 34s, total: 2min 41s\n",
      "Wall time: 7min 23s\n"
     ]
    }
   ],
   "source": [
    "%%time\n",
    "# HDF5\n",
    "with pd.get_store('../saved/storage.h5') as store:\n",
    "    store.put(mode, df, format='table')"
   ]
  },
  {
   "cell_type": "markdown",
   "metadata": {},
   "source": [
    "# Load and save into other formats"
   ]
  },
  {
   "cell_type": "code",
   "execution_count": 1,
   "metadata": {
    "collapsed": false
   },
   "outputs": [
    {
     "name": "stdout",
     "output_type": "stream",
     "text": [
      "CPU times: user 6.88 s, sys: 18.7 s, total: 25.6 s\n",
      "Wall time: 3min 33s\n"
     ]
    }
   ],
   "source": [
    "%%time\n",
    "import pandas as pd\n",
    "import numpy as np\n",
    "PATH_STORE = '../saved/storage.h5'\n",
    "mode = 'test'\n",
    "df = pd.read_hdf(PATH_STORE, mode)\n"
   ]
  },
  {
   "cell_type": "code",
   "execution_count": 2,
   "metadata": {
    "collapsed": false
   },
   "outputs": [
    {
     "name": "stdout",
     "output_type": "stream",
     "text": [
      "CPU times: user 140 ms, sys: 647 ms, total: 787 ms\n",
      "Wall time: 3.1 s\n"
     ]
    }
   ],
   "source": [
    "%%time\n",
    "# train_pd.fillna(train_pd.mean(), inplace=True)\n",
    "df.fillna(0, inplace=True)"
   ]
  },
  {
   "cell_type": "code",
   "execution_count": 5,
   "metadata": {
    "collapsed": false
   },
   "outputs": [],
   "source": [
    "if mode == 'train':\n",
    "    labels = df['target']\n",
    "    df.drop(['target'], axis=1, inplace=True)\n",
    "else:\n",
    "    labels = np.zeros(len(df))"
   ]
  },
  {
   "cell_type": "code",
   "execution_count": 7,
   "metadata": {
    "collapsed": false
   },
   "outputs": [
    {
     "name": "stdout",
     "output_type": "stream",
     "text": [
      "CPU times: user 23min 27s, sys: 53 s, total: 24min 20s\n",
      "Wall time: 26min 40s\n"
     ]
    }
   ],
   "source": [
    "%%time\n",
    "PATH_SAVE_LIBSVM = '/tmp/%s.libsvm' % mode\n",
    "\n",
    "from sklearn.datasets import dump_svmlight_file, load_svmlight_file\n",
    "# from svmlight_loader import dump_svmlight_file, load_svmlight_file\n",
    "\n",
    "dump_svmlight_file(X=df, y=labels,\n",
    "                  f=PATH_SAVE_LIBSVM)\n"
   ]
  },
  {
   "cell_type": "markdown",
   "metadata": {},
   "source": [
    "# Scratchspace\n"
   ]
  },
  {
   "cell_type": "markdown",
   "metadata": {
    "collapsed": false
   },
   "source": [
    "## Processing Numerical Columns\n",
    "\n",
    "Some numerical columns contain values that obviously represent some sort of categorical flag (ie. 99998). We need to detect which columns contain these flag values, what the values are, and finally, strip the values out to separate one-hot encoded columns. \n",
    "\n",
    "### Detection\n",
    "\n",
    "Counter -> top k=100 occurences that occur at least n/100 times. Check that the most significant digit is 9... just because that's how it seems SpringLeaf has encoded the data.\n",
    "\n"
   ]
  },
  {
   "cell_type": "code",
   "execution_count": 5,
   "metadata": {
    "collapsed": false
   },
   "outputs": [],
   "source": [
    "from collections import Counter\n",
    "import cPickle as pickle\n",
    "\n",
    "df_num_replace = pd.DataFrame(index=df.index)\n",
    "df_flags = pd.DataFrame(index=df.index)\n",
    "\n",
    "if mode == 'train':\n",
    "    df.fillna(0, inplace=True)\n",
    "\n",
    "    # Only do detection for training set\n",
    "\n",
    "    k = 100\n",
    "\n",
    "    # for num_col in num_cols:\n",
    "    for num_col in df.columns:\n",
    "        if df.dtypes[num_col] not in [np.int, np.float]:\n",
    "            continue\n",
    "        c = Counter(df[num_col])\n",
    "\n",
    "        top_k = c.most_common(k)\n",
    "        flag_cond = lambda v: (np.abs(v) > 10 and (str(np.abs(v))[:-1] == int(np.log10(np.abs(v))) * '9'))\n",
    "        if any([flag_cond(v) and n_v > len(df)/200 for v, n_v in top_k]):\n",
    "\n",
    "            print num_col\n",
    "            candidates = np.array([v for v, n_v in top_k if flag_cond(v)])\n",
    "            print candidates\n",
    "            mag = max(np.floor(np.log10(np.abs(candidates))))\n",
    "            candidates = candidates[np.abs(candidates)/10**mag > 1]\n",
    "            print candidates\n",
    "\n",
    "            for v in candidates:\n",
    "                df_flags[num_col + '_' + str(v)] = df[num_col] == v\n",
    "                df_num_replace[num_col] = df[num_col].replace(v, 0)\n",
    "                \n",
    "    pickle.dump(df_flags.columns, open('../saved/flags_columns.p', 'wb'))\n",
    "    \n",
    "elif mode == 'test':\n",
    "    flag_cols = pickle.load(open('../saved/flags_columns.p', 'rb'))\n",
    "    for flag_col in flag_cols:\n",
    "        col, v = flag_col.rsplit('_', 1)\n",
    "        df_flags[flag_col] = df[col] == int(v)\n",
    "        df[col] = df[col].replace(v, 0)\n",
    "    \n",
    "            "
   ]
  },
  {
   "cell_type": "code",
   "execution_count": 4,
   "metadata": {
    "collapsed": false
   },
   "outputs": [
    {
     "data": {
      "text/plain": [
       "'999'"
      ]
     },
     "execution_count": 4,
     "metadata": {},
     "output_type": "execute_result"
    }
   ],
   "source": [
    "v"
   ]
  },
  {
   "cell_type": "code",
   "execution_count": 7,
   "metadata": {
    "collapsed": false
   },
   "outputs": [
    {
     "name": "stdout",
     "output_type": "stream",
     "text": [
      "CPU times: user 53.3 ms, sys: 18.4 s, total: 18.5 s\n",
      "Wall time: 56.2 s\n"
     ]
    }
   ],
   "source": [
    "%%time\n",
    "# df_flags.columns = ['f' + str(n) for n in range(df_flags.columns.shape[0])]\n",
    "# with pd.get_store('../saved/extras.h5') as store:\n",
    "#     store.put(mode + '_flags', df_flags.astype(int), format='table')\n",
    "df_flags.to_msgpack('../saved/%s_numflags.msg' % mode)"
   ]
  },
  {
   "cell_type": "code",
   "execution_count": 6,
   "metadata": {
    "collapsed": false
   },
   "outputs": [
    {
     "name": "stdout",
     "output_type": "stream",
     "text": [
      "CPU times: user 2.28 s, sys: 1min 50s, total: 1min 53s\n",
      "Wall time: 6min 20s\n"
     ]
    }
   ],
   "source": [
    "%%time\n",
    "df.to_msgpack('../saved/%s.msg' % mode)"
   ]
  },
  {
   "cell_type": "code",
   "execution_count": 5,
   "metadata": {
    "collapsed": false
   },
   "outputs": [
    {
     "name": "stdout",
     "output_type": "stream",
     "text": [
      "CPU times: user 1.91 s, sys: 57.3 s, total: 59.2 s\n",
      "Wall time: 3min 10s\n"
     ]
    }
   ],
   "source": [
    "%%time\n",
    "# with pd.get_store('../saved/extras.h5') as store:\n",
    "#     store.put(mode + '_replace', df_num_replace, format='table')\n",
    "df_num_replace.to_msgpack('../saved/%s_numreplace.msg' % mode)"
   ]
  },
  {
   "cell_type": "code",
   "execution_count": 123,
   "metadata": {
    "collapsed": false
   },
   "outputs": [
    {
     "data": {
      "text/plain": [
       "['VAR_0003', '999']"
      ]
     },
     "execution_count": 123,
     "metadata": {},
     "output_type": "execute_result"
    }
   ],
   "source": [
    "'VAR_0003_999'"
   ]
  },
  {
   "cell_type": "code",
   "execution_count": 74,
   "metadata": {
    "collapsed": false
   },
   "outputs": [],
   "source": [
    "c = Counter(df['VAR_1493'])\n",
    "top_k = c.most_common(20)\n",
    "if type(c.keys()[0]) == int and any([str(v)[:-1] == int(np.log10(v)) * '9' for v, n_v in top_k]):\n",
    "\n",
    "    print num_col\n",
    "    print c.items()[:k]"
   ]
  },
  {
   "cell_type": "code",
   "execution_count": 102,
   "metadata": {
    "collapsed": false
   },
   "outputs": [
    {
     "name": "stdout",
     "output_type": "stream",
     "text": [
      "VAR_0179-null\n",
      "[]\n"
     ]
    },
    {
     "ename": "ValueError",
     "evalue": "max() arg is an empty sequence",
     "output_type": "error",
     "traceback": [
      "\u001b[1;31m---------------------------------------------------------------------------\u001b[0m",
      "\u001b[1;31mValueError\u001b[0m                                Traceback (most recent call last)",
      "\u001b[1;32m<ipython-input-102-e6e428498d45>\u001b[0m in \u001b[0;36m<module>\u001b[1;34m()\u001b[0m\n\u001b[0;32m      2\u001b[0m \u001b[0mcandidates\u001b[0m \u001b[1;33m=\u001b[0m \u001b[0mnp\u001b[0m\u001b[1;33m.\u001b[0m\u001b[0marray\u001b[0m\u001b[1;33m(\u001b[0m\u001b[1;33m[\u001b[0m\u001b[0mv\u001b[0m \u001b[1;32mfor\u001b[0m \u001b[0mv\u001b[0m\u001b[1;33m,\u001b[0m \u001b[0mn_v\u001b[0m \u001b[1;32min\u001b[0m \u001b[0mtop_k\u001b[0m \u001b[1;32mif\u001b[0m \u001b[0mflag_cond\u001b[0m\u001b[1;33m(\u001b[0m\u001b[0mv\u001b[0m\u001b[1;33m)\u001b[0m\u001b[1;33m]\u001b[0m\u001b[1;33m)\u001b[0m\u001b[1;33m\u001b[0m\u001b[0m\n\u001b[0;32m      3\u001b[0m \u001b[1;32mprint\u001b[0m \u001b[0mcandidates\u001b[0m\u001b[1;33m\u001b[0m\u001b[0m\n\u001b[1;32m----> 4\u001b[1;33m \u001b[0mmag\u001b[0m \u001b[1;33m=\u001b[0m \u001b[0mmax\u001b[0m\u001b[1;33m(\u001b[0m\u001b[0mnp\u001b[0m\u001b[1;33m.\u001b[0m\u001b[0mfloor\u001b[0m\u001b[1;33m(\u001b[0m\u001b[0mnp\u001b[0m\u001b[1;33m.\u001b[0m\u001b[0mlog10\u001b[0m\u001b[1;33m(\u001b[0m\u001b[0mcandidates\u001b[0m\u001b[1;33m)\u001b[0m\u001b[1;33m)\u001b[0m\u001b[1;33m)\u001b[0m\u001b[1;33m\u001b[0m\u001b[0m\n\u001b[0m\u001b[0;32m      5\u001b[0m \u001b[0mcandidates\u001b[0m\u001b[1;33m[\u001b[0m\u001b[0mcandidates\u001b[0m\u001b[1;33m/\u001b[0m\u001b[1;36m10\u001b[0m\u001b[1;33m**\u001b[0m\u001b[0mmag\u001b[0m \u001b[1;33m>\u001b[0m \u001b[1;36m0\u001b[0m\u001b[1;33m]\u001b[0m\u001b[1;33m\u001b[0m\u001b[0m\n\u001b[0;32m      6\u001b[0m \u001b[1;32mprint\u001b[0m \u001b[0mcandidates\u001b[0m\u001b[1;33m\u001b[0m\u001b[0m\n",
      "\u001b[1;31mValueError\u001b[0m: max() arg is an empty sequence"
     ]
    }
   ],
   "source": [
    "print num_col\n",
    "candidates = np.array([v for v, n_v in top_k if flag_cond(v)])\n",
    "print candidates\n",
    "mag = max(np.floor(np.log10(candidates)))\n",
    "candidates[candidates/10**mag > 0]\n",
    "print candidates"
   ]
  },
  {
   "cell_type": "code",
   "execution_count": 10,
   "metadata": {
    "collapsed": false,
    "scrolled": true
   },
   "outputs": [
    {
     "data": {
      "text/plain": [
       "1091"
      ]
     },
     "execution_count": 10,
     "metadata": {},
     "output_type": "execute_result"
    }
   ],
   "source": [
    "len(cols)"
   ]
  },
  {
   "cell_type": "code",
   "execution_count": 8,
   "metadata": {
    "collapsed": false
   },
   "outputs": [
    {
     "data": {
      "text/html": [
       "<div style=\"max-height:1000px;max-width:1500px;overflow:auto;\">\n",
       "<table border=\"1\" class=\"dataframe\">\n",
       "  <thead>\n",
       "    <tr style=\"text-align: right;\">\n",
       "      <th></th>\n",
       "      <th>VAR_0002</th>\n",
       "      <th>VAR_0003</th>\n",
       "      <th>VAR_0004</th>\n",
       "      <th>VAR_0006</th>\n",
       "      <th>VAR_0007</th>\n",
       "      <th>VAR_0013</th>\n",
       "      <th>VAR_0014</th>\n",
       "      <th>VAR_0015</th>\n",
       "      <th>VAR_0016</th>\n",
       "      <th>VAR_0017</th>\n",
       "      <th>...</th>\n",
       "      <th>VAR_0466-I</th>\n",
       "      <th>VAR_0467--1</th>\n",
       "      <th>VAR_0467-Discharge NA</th>\n",
       "      <th>VAR_0467-Discharged</th>\n",
       "      <th>VAR_0467-Dismissed</th>\n",
       "      <th>VAR_1934-BRANCH</th>\n",
       "      <th>VAR_1934-CSC</th>\n",
       "      <th>VAR_1934-IAPS</th>\n",
       "      <th>VAR_1934-MOBILE</th>\n",
       "      <th>VAR_1934-RCC</th>\n",
       "    </tr>\n",
       "    <tr>\n",
       "      <th>ID</th>\n",
       "      <th></th>\n",
       "      <th></th>\n",
       "      <th></th>\n",
       "      <th></th>\n",
       "      <th></th>\n",
       "      <th></th>\n",
       "      <th></th>\n",
       "      <th></th>\n",
       "      <th></th>\n",
       "      <th></th>\n",
       "      <th></th>\n",
       "      <th></th>\n",
       "      <th></th>\n",
       "      <th></th>\n",
       "      <th></th>\n",
       "      <th></th>\n",
       "      <th></th>\n",
       "      <th></th>\n",
       "      <th></th>\n",
       "      <th></th>\n",
       "      <th></th>\n",
       "    </tr>\n",
       "  </thead>\n",
       "  <tbody>\n",
       "    <tr>\n",
       "      <th>2</th>\n",
       "      <td> 224</td>\n",
       "      <td>   0</td>\n",
       "      <td> 4300</td>\n",
       "      <td> 0</td>\n",
       "      <td> 0</td>\n",
       "      <td> 0</td>\n",
       "      <td> 0</td>\n",
       "      <td> 0</td>\n",
       "      <td> 1</td>\n",
       "      <td> 0</td>\n",
       "      <td>...</td>\n",
       "      <td> False</td>\n",
       "      <td>  True</td>\n",
       "      <td> False</td>\n",
       "      <td> False</td>\n",
       "      <td> False</td>\n",
       "      <td> False</td>\n",
       "      <td> False</td>\n",
       "      <td>  True</td>\n",
       "      <td> False</td>\n",
       "      <td> False</td>\n",
       "    </tr>\n",
       "    <tr>\n",
       "      <th>4</th>\n",
       "      <td>   7</td>\n",
       "      <td>  53</td>\n",
       "      <td> 4448</td>\n",
       "      <td> 1</td>\n",
       "      <td> 0</td>\n",
       "      <td> 1</td>\n",
       "      <td> 0</td>\n",
       "      <td> 1</td>\n",
       "      <td> 2</td>\n",
       "      <td> 1</td>\n",
       "      <td>...</td>\n",
       "      <td>  True</td>\n",
       "      <td> False</td>\n",
       "      <td> False</td>\n",
       "      <td>  True</td>\n",
       "      <td> False</td>\n",
       "      <td> False</td>\n",
       "      <td> False</td>\n",
       "      <td>  True</td>\n",
       "      <td> False</td>\n",
       "      <td> False</td>\n",
       "    </tr>\n",
       "    <tr>\n",
       "      <th>5</th>\n",
       "      <td> 116</td>\n",
       "      <td>   3</td>\n",
       "      <td> 3464</td>\n",
       "      <td> 0</td>\n",
       "      <td> 0</td>\n",
       "      <td> 0</td>\n",
       "      <td> 0</td>\n",
       "      <td> 0</td>\n",
       "      <td> 1</td>\n",
       "      <td> 0</td>\n",
       "      <td>...</td>\n",
       "      <td> False</td>\n",
       "      <td>  True</td>\n",
       "      <td> False</td>\n",
       "      <td> False</td>\n",
       "      <td> False</td>\n",
       "      <td> False</td>\n",
       "      <td> False</td>\n",
       "      <td>  True</td>\n",
       "      <td> False</td>\n",
       "      <td> False</td>\n",
       "    </tr>\n",
       "    <tr>\n",
       "      <th>7</th>\n",
       "      <td> 240</td>\n",
       "      <td> 300</td>\n",
       "      <td> 3200</td>\n",
       "      <td> 0</td>\n",
       "      <td> 0</td>\n",
       "      <td> 0</td>\n",
       "      <td> 0</td>\n",
       "      <td> 0</td>\n",
       "      <td> 2</td>\n",
       "      <td> 0</td>\n",
       "      <td>...</td>\n",
       "      <td> False</td>\n",
       "      <td>  True</td>\n",
       "      <td> False</td>\n",
       "      <td> False</td>\n",
       "      <td> False</td>\n",
       "      <td> False</td>\n",
       "      <td> False</td>\n",
       "      <td> False</td>\n",
       "      <td> False</td>\n",
       "      <td>  True</td>\n",
       "    </tr>\n",
       "    <tr>\n",
       "      <th>8</th>\n",
       "      <td>  72</td>\n",
       "      <td> 261</td>\n",
       "      <td> 2000</td>\n",
       "      <td> 0</td>\n",
       "      <td> 0</td>\n",
       "      <td> 0</td>\n",
       "      <td> 0</td>\n",
       "      <td> 0</td>\n",
       "      <td> 1</td>\n",
       "      <td> 0</td>\n",
       "      <td>...</td>\n",
       "      <td> False</td>\n",
       "      <td>  True</td>\n",
       "      <td> False</td>\n",
       "      <td> False</td>\n",
       "      <td> False</td>\n",
       "      <td>  True</td>\n",
       "      <td> False</td>\n",
       "      <td> False</td>\n",
       "      <td> False</td>\n",
       "      <td> False</td>\n",
       "    </tr>\n",
       "  </tbody>\n",
       "</table>\n",
       "<p>5 rows × 2153 columns</p>\n",
       "</div>"
      ],
      "text/plain": [
       "    VAR_0002  VAR_0003  VAR_0004  VAR_0006  VAR_0007  VAR_0013  VAR_0014  \\\n",
       "ID                                                                         \n",
       "2        224         0      4300         0         0         0         0   \n",
       "4          7        53      4448         1         0         1         0   \n",
       "5        116         3      3464         0         0         0         0   \n",
       "7        240       300      3200         0         0         0         0   \n",
       "8         72       261      2000         0         0         0         0   \n",
       "\n",
       "    VAR_0015  VAR_0016  VAR_0017      ...       VAR_0466-I  VAR_0467--1  \\\n",
       "ID                                    ...                                 \n",
       "2          0         1         0      ...            False         True   \n",
       "4          1         2         1      ...             True        False   \n",
       "5          0         1         0      ...            False         True   \n",
       "7          0         2         0      ...            False         True   \n",
       "8          0         1         0      ...            False         True   \n",
       "\n",
       "    VAR_0467-Discharge NA  VAR_0467-Discharged  VAR_0467-Dismissed  \\\n",
       "ID                                                                   \n",
       "2                   False                False               False   \n",
       "4                   False                 True               False   \n",
       "5                   False                False               False   \n",
       "7                   False                False               False   \n",
       "8                   False                False               False   \n",
       "\n",
       "    VAR_1934-BRANCH  VAR_1934-CSC  VAR_1934-IAPS  VAR_1934-MOBILE  \\\n",
       "ID                                                                  \n",
       "2             False         False           True            False   \n",
       "4             False         False           True            False   \n",
       "5             False         False           True            False   \n",
       "7             False         False          False            False   \n",
       "8              True         False          False            False   \n",
       "\n",
       "    VAR_1934-RCC  \n",
       "ID                \n",
       "2          False  \n",
       "4          False  \n",
       "5          False  \n",
       "7           True  \n",
       "8          False  \n",
       "\n",
       "[5 rows x 2153 columns]"
      ]
     },
     "execution_count": 8,
     "metadata": {},
     "output_type": "execute_result"
    }
   ],
   "source": [
    "df.head()"
   ]
  },
  {
   "cell_type": "code",
   "execution_count": 9,
   "metadata": {
    "collapsed": false
   },
   "outputs": [
    {
     "data": {
      "text/plain": [
       "561"
      ]
     },
     "execution_count": 9,
     "metadata": {},
     "output_type": "execute_result"
    }
   ],
   "source": [
    "import gc\n",
    "del df_flags\n",
    "del df_num_replace\n",
    "gc.collect()"
   ]
  },
  {
   "cell_type": "markdown",
   "metadata": {},
   "source": [
    "# Convert to libsvm again"
   ]
  },
  {
   "cell_type": "code",
   "execution_count": 5,
   "metadata": {
    "collapsed": true
   },
   "outputs": [],
   "source": [
    "import pandas as pd\n",
    "\n",
    "from sklearn.datasets import dump_svmlight_file, load_svmlight_file\n",
    "# from svmlight_loader import dump_svmlight_file, load_svmlight_file\n",
    "\n",
    "mode = 'test'"
   ]
  },
  {
   "cell_type": "code",
   "execution_count": 4,
   "metadata": {
    "collapsed": false
   },
   "outputs": [
    {
     "name": "stdout",
     "output_type": "stream",
     "text": [
      "CPU times: user 8.08 s, sys: 2min 26s, total: 2min 34s\n",
      "Wall time: 8min 31s\n"
     ]
    }
   ],
   "source": [
    "%%time\n",
    "df= pd.read_msgpack('../saved/%s.msg' % mode)\n",
    "df_flags = pd.read_msgpack('../saved/%s_numflags.msg' % mode)"
   ]
  },
  {
   "cell_type": "code",
   "execution_count": 6,
   "metadata": {
    "collapsed": false
   },
   "outputs": [
    {
     "name": "stdout",
     "output_type": "stream",
     "text": [
      "CPU times: user 22min 4s, sys: 1min 20s, total: 23min 24s\n",
      "Wall time: 25min 53s\n"
     ]
    }
   ],
   "source": [
    "%%time\n",
    "PATH_SAVE_LIBSVM = '/tmp/%s_flagged.libsvm' % mode\n",
    "\n",
    "if mode == 'train':\n",
    "    labels = df['target']\n",
    "    df.drop(['target'], axis=1, inplace=True)\n",
    "else:\n",
    "    labels = np.zeros(len(df))\n",
    "\n",
    "dump_svmlight_file(X=df, y=labels, f=PATH_SAVE_LIBSVM)\n"
   ]
  }
 ],
 "metadata": {
  "kernelspec": {
   "display_name": "Python 2",
   "language": "python",
   "name": "python2"
  },
  "language_info": {
   "codemirror_mode": {
    "name": "ipython",
    "version": 2
   },
   "file_extension": ".py",
   "mimetype": "text/x-python",
   "name": "python",
   "nbconvert_exporter": "python",
   "pygments_lexer": "ipython2",
   "version": "2.7.8"
  }
 },
 "nbformat": 4,
 "nbformat_minor": 0
}
