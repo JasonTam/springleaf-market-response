{
 "cells": [
  {
   "cell_type": "code",
   "execution_count": 21,
   "metadata": {
    "collapsed": true
   },
   "outputs": [],
   "source": [
    "import pandas as pd\n",
    "import numpy as np\n",
    "import itertools\n",
    "import xgboost as xgb\n",
    "import os\n",
    "import glob\n",
    "import gc\n",
    "import shutil\n",
    "\n",
    "from svmlight_loader import dump_svmlight_file, load_svmlight_file\n",
    "# from sklearn.datasets import dump_svmlight_file, load_svmlight_file\n",
    "\n",
    "# mode = 'train'\n",
    "mode = 'test'"
   ]
  },
  {
   "cell_type": "code",
   "execution_count": 13,
   "metadata": {
    "collapsed": false
   },
   "outputs": [
    {
     "name": "stdout",
     "output_type": "stream",
     "text": [
      "# rows: 145232\n",
      "Columns: Index([u'VAR_0002', u'VAR_0003', u'VAR_0004', u'VAR_0006', u'VAR_0007', u'VAR_0013', u'VAR_0014', u'VAR_0015', u'VAR_0016', u'VAR_0017', u'VAR_0033', u'VAR_0034', u'VAR_0035', u'VAR_0036', u'VAR_0037', u'VAR_0045', u'VAR_0046', u'VAR_0047', u'VAR_0048', u'VAR_0049', u'VAR_0050', u'VAR_0051', u'VAR_0052', u'VAR_0053', u'VAR_0054', u'VAR_0055', u'VAR_0056', u'VAR_0057', u'VAR_0058', u'VAR_0059', u'VAR_0060', u'VAR_0061', u'VAR_0062', u'VAR_0063', u'VAR_0064', u'VAR_0065', u'VAR_0066', u'VAR_0067', u'VAR_0068', u'VAR_0069', u'VAR_0070', u'VAR_0071', u'VAR_0072', u'VAR_0074', u'VAR_0076', u'VAR_0077', u'VAR_0078', u'VAR_0079', u'VAR_0080', u'VAR_0081', u'VAR_0082', u'VAR_0083', u'VAR_0084', u'VAR_0085', u'VAR_0086', u'VAR_0087', u'VAR_0088', u'VAR_0089', u'VAR_0090', u'VAR_0091', u'VAR_0092', u'VAR_0093', u'VAR_0094', u'VAR_0095', u'VAR_0096', u'VAR_0097', u'VAR_0098', u'VAR_0099', u'VAR_0100', u'VAR_0101', u'VAR_0102', u'VAR_0103', u'VAR_0104', u'VAR_0105', u'VAR_0106', u'VAR_0107', u'VAR_0108', u'VAR_0109', u'VAR_0110', u'VAR_0111', u'VAR_0112', u'VAR_0113', u'VAR_0114', u'VAR_0115', u'VAR_0116', u'VAR_0117', u'VAR_0118', u'VAR_0119', u'VAR_0120', u'VAR_0121', u'VAR_0122', u'VAR_0123', u'VAR_0124', u'VAR_0125', u'VAR_0126', u'VAR_0127', u'VAR_0128', u'VAR_0129', u'VAR_0130', u'VAR_0131', ...], dtype='object')\n",
      "CPU times: user 43.3 ms, sys: 6.67 ms, total: 50 ms\n",
      "Wall time: 43.3 ms\n"
     ]
    }
   ],
   "source": [
    "%%time\n",
    "PATH_STORE = '../saved/storage.h5'\n",
    "cols_df = pd.read_hdf(PATH_STORE, mode, \n",
    "                       where=[\"index==0\"])\n",
    "if mode == 'train':\n",
    "    cols = cols_df.columns.drop('target')\n",
    "else:\n",
    "    cols = cols_df.columns\n",
    "\n",
    "store = pd.HDFStore(PATH_STORE)\n",
    "n_rows = store.get_storer(mode).nrows\n",
    "store.close()\n",
    "\n",
    "print '# rows: %d' % n_rows\n",
    "print 'Columns:', cols"
   ]
  },
  {
   "cell_type": "code",
   "execution_count": 14,
   "metadata": {
    "collapsed": false
   },
   "outputs": [
    {
     "name": "stdout",
     "output_type": "stream",
     "text": [
      "(145232,)\n"
     ]
    }
   ],
   "source": [
    "if mode == 'train':\n",
    "    targets_df = pd.read_pickle('../saved/train_targets.p')\n",
    "    targets = np.array(targets_df['target'])\n",
    "else:\n",
    "    targets = -1*np.ones(n_rows)\n",
    "print targets.shape"
   ]
  },
  {
   "cell_type": "markdown",
   "metadata": {},
   "source": [
    "# Rasco Params"
   ]
  },
  {
   "cell_type": "code",
   "execution_count": 15,
   "metadata": {
    "collapsed": false
   },
   "outputs": [],
   "source": [
    "feat_ratio = 0.7\n",
    "n_estimators = 5\n",
    "max_iters = 20\n",
    "n_xfer = 10\n",
    "\n",
    "n_feats = len(cols)\n",
    "n_feats_subsp = int(feat_ratio * n_feats)\n"
   ]
  },
  {
   "cell_type": "code",
   "execution_count": 17,
   "metadata": {
    "collapsed": false
   },
   "outputs": [
    {
     "name": "stdout",
     "output_type": "stream",
     "text": [
      "Span factor : 1.0\n"
     ]
    }
   ],
   "source": [
    "np.random.seed(33)\n",
    "sub_sps_inds = [np.random.permutation(n_feats)[:n_feats_subsp]\n",
    "                for _ in range(n_estimators)]\n",
    "\n",
    "span = len(set(itertools.chain(*sub_sps_inds))) / float(n_feats)\n",
    "print 'Span factor :', span\n",
    "\n",
    "sub_sps_cols = [cols[inds] for inds in sub_sps_inds]"
   ]
  },
  {
   "cell_type": "markdown",
   "metadata": {},
   "source": [
    "## Making libsvm and xgb DMatrices for subspaces"
   ]
  },
  {
   "cell_type": "code",
   "execution_count": 18,
   "metadata": {
    "collapsed": false
   },
   "outputs": [
    {
     "name": "stdout",
     "output_type": "stream",
     "text": [
      "Processing subspace # 0\n",
      "Chunk 0 / 8  | Shape: (20000, 1506)\n",
      "Chunk 1 / 8  | Shape: (20000, 1506)\n",
      "Chunk 2 / 8  | Shape: (20000, 1506)\n",
      "Chunk 3 / 8  | Shape: (20000, 1506)\n",
      "Chunk 4 / 8  | Shape: (20000, 1506)\n",
      "Chunk 5 / 8  | Shape: (20000, 1506)\n",
      "Chunk 6 / 8  | Shape: (20000, 1506)\n",
      "Chunk 7 / 8  | Shape: (5232, 1506)\n",
      "Done with subspace # 0\n",
      "Processing subspace # 1\n",
      "Chunk 0 / 8  | Shape: (20000, 1506)\n",
      "Chunk 1 / 8  | Shape: (20000, 1506)\n",
      "Chunk 2 / 8  | Shape: (20000, 1506)\n",
      "Chunk 3 / 8  | Shape: (20000, 1506)\n",
      "Chunk 4 / 8  | Shape: (20000, 1506)\n",
      "Chunk 5 / 8  | Shape: (20000, 1506)\n",
      "Chunk 6 / 8  | Shape: (20000, 1506)\n",
      "Chunk 7 / 8  | Shape: (5232, 1506)\n",
      "Done with subspace # 1\n",
      "Processing subspace # 2\n",
      "Chunk 0 / 8  | Shape: (20000, 1506)\n",
      "Chunk 1 / 8  | Shape: (20000, 1506)\n",
      "Chunk 2 / 8  | Shape: (20000, 1506)\n",
      "Chunk 3 / 8  | Shape: (20000, 1506)\n",
      "Chunk 4 / 8  | Shape: (20000, 1506)\n",
      "Chunk 5 / 8  | Shape: (20000, 1506)\n",
      "Chunk 6 / 8  | Shape: (20000, 1506)\n",
      "Chunk 7 / 8  | Shape: (5232, 1506)\n",
      "Done with subspace # 2\n",
      "Processing subspace # 3\n",
      "Chunk 0 / 8  | Shape: (20000, 1506)\n",
      "Chunk 1 / 8  | Shape: (20000, 1506)\n",
      "Chunk 2 / 8  | Shape: (20000, 1506)\n",
      "Chunk 3 / 8  | Shape: (20000, 1506)\n",
      "Chunk 4 / 8  | Shape: (20000, 1506)\n",
      "Chunk 5 / 8  | Shape: (20000, 1506)\n",
      "Chunk 6 / 8  | Shape: (20000, 1506)\n",
      "Chunk 7 / 8  | Shape: (5232, 1506)\n",
      "Done with subspace # 3\n",
      "Processing subspace # 4\n",
      "Chunk 0 / 8  | Shape: (20000, 1506)\n",
      "Chunk 1 / 8  | Shape: (20000, 1506)\n",
      "Chunk 2 / 8  | Shape: (20000, 1506)\n",
      "Chunk 3 / 8  | Shape: (20000, 1506)\n",
      "Chunk 4 / 8  | Shape: (20000, 1506)\n",
      "Chunk 5 / 8  | Shape: (20000, 1506)\n",
      "Chunk 6 / 8  | Shape: (20000, 1506)\n",
      "Chunk 7 / 8  | Shape: (5232, 1506)\n",
      "Done with subspace # 4\n",
      "CPU times: user 11min 22s, sys: 4min 14s, total: 15min 36s\n",
      "Wall time: 27min 13s\n"
     ]
    }
   ],
   "source": [
    "%%time\n",
    "PATH_SAVE_LIBSVM_PART = '../saved/rasco/%s_sub%d_%d.libsvm'  # mode sub_i and part\n",
    "chunksize = 20000\n",
    "\n",
    "for sub_i, sub_sp_cols in enumerate(sub_sps_cols):\n",
    "       \n",
    "    print 'Processing subspace # %d' % sub_i\n",
    "    \n",
    "    for chunk_i in xrange(n_rows//chunksize + 1):\n",
    "        print 'Chunk %d / %d' % (chunk_i, n_rows//chunksize + 1),\n",
    "        \n",
    "        X = pd.read_hdf(PATH_STORE, mode, columns=sub_sp_cols,\n",
    "                        start=chunk_i*chunksize, stop=(chunk_i+1)*chunksize)\n",
    "        \n",
    "        print ' | Shape:', X.shape\n",
    "        \n",
    "        dump_svmlight_file(\n",
    "            X=X, y=targets[chunk_i*chunksize:chunk_i*chunksize + X.shape[0]], \n",
    "            f=PATH_SAVE_LIBSVM_PART % (mode, sub_i, chunk_i))\n",
    "        \n",
    "        del X\n",
    "        gc.collect()\n",
    "    print 'Done with subspace #', sub_i\n",
    "    \n",
    "#     break\n"
   ]
  },
  {
   "cell_type": "code",
   "execution_count": 25,
   "metadata": {
    "collapsed": false
   },
   "outputs": [
    {
     "name": "stdout",
     "output_type": "stream",
     "text": [
      "Merging libsvm parts for subspace # 0\n",
      "Merging libsvm parts for subspace # 1\n",
      "Merging libsvm parts for subspace # 2\n",
      "Merging libsvm parts for subspace # 3\n",
      "Merging libsvm parts for subspace # 4\n",
      "CPU times: user 3.34 s, sys: 3min 36s, total: 3min 39s\n",
      "Wall time: 12min 42s\n"
     ]
    }
   ],
   "source": [
    "%%time\n",
    "# Merging libsvm parts\n",
    "PATH_SAVE_LIBSVM_FULL = PATH_SAVE_LIBSVM_PART.rsplit('_', 1)[0] + '.libsvm'\n",
    "\n",
    "for sub_i, sub_sp_cols in enumerate(sub_sps_cols):\n",
    "    print 'Merging libsvm parts for subspace # %d' % sub_i\n",
    "    with open(PATH_SAVE_LIBSVM_FULL % (mode, sub_i), 'w') as outfile:\n",
    "        fnames = glob.glob(PATH_SAVE_LIBSVM_PART.rsplit('_', 1)[0] % (mode, sub_i) + '_*')\n",
    "        for fname in fnames:\n",
    "            with open(fname, 'rb') as readfile:\n",
    "                shutil.copyfileobj(readfile, outfile)\n",
    "    gc.collect()\n",
    "\n",
    "    "
   ]
  },
  {
   "cell_type": "code",
   "execution_count": 15,
   "metadata": {
    "collapsed": false
   },
   "outputs": [
    {
     "name": "stdout",
     "output_type": "stream",
     "text": [
      "xgb DMatrix binary save for subspace # 0\n",
      "Done: 0\n",
      "xgb DMatrix binary save for subspace # 1\n",
      "Done: 1\n",
      "xgb DMatrix binary save for subspace # 2\n",
      "Done: 2\n",
      "xgb DMatrix binary save for subspace # 3\n",
      "Done: 3\n",
      "xgb DMatrix binary save for subspace # 4\n",
      "Done: 4\n",
      "CPU times: user 2min 27s, sys: 3min 38s, total: 6min 6s\n",
      "Wall time: 11min 50s\n"
     ]
    }
   ],
   "source": [
    "%%time\n",
    "PATH_SAVE_BIN = '../saved/rasco/%s_sub%d.bin'\n",
    "\n",
    "for sub_i, sub_sp_cols in enumerate(sub_sps_cols):\n",
    "    print 'xgb DMatrix binary save for subspace # %d' % sub_i\n",
    "    \n",
    "    d_sub = xgb.DMatrix(PATH_SAVE_LIBSVM_FULL % sub_i)\n",
    "    d_sub.save_binary(PATH_SAVE_BIN % (mode, sub_i))\n",
    "    print 'Done:', sub_i\n",
    "\n",
    "    del d_sub\n",
    "    gc.collect()\n",
    "#     break"
   ]
  },
  {
   "cell_type": "markdown",
   "metadata": {
    "collapsed": false
   },
   "source": [
    "# Merging train & test libsvm files \n"
   ]
  },
  {
   "cell_type": "code",
   "execution_count": 30,
   "metadata": {
    "collapsed": false
   },
   "outputs": [
    {
     "name": "stdout",
     "output_type": "stream",
     "text": [
      "Merging libsvm train and test for subspace # 0\n",
      "Merging libsvm train and test for subspace # 1\n",
      "Merging libsvm train and test for subspace # 2\n",
      "Merging libsvm train and test for subspace # 3\n",
      "Merging libsvm train and test for subspace # 4\n",
      "CPU times: user 4.61 s, sys: 7min 4s, total: 7min 9s\n",
      "Wall time: 35min 49s\n"
     ]
    }
   ],
   "source": [
    "%%time\n",
    "# Merging libsvm train & test\n",
    "\n",
    "for sub_i, sub_sp_cols in enumerate(sub_sps_cols):\n",
    "    print 'Merging libsvm train and test for subspace # %d' % sub_i\n",
    "    with open(PATH_SAVE_LIBSVM_FULL % ('both', sub_i), 'w') as outfile:\n",
    "        fnames = glob.glob(PATH_SAVE_LIBSVM_FULL % ('*', sub_i))\n",
    "        for fname in fnames:\n",
    "            with open(fname, 'rb') as readfile:\n",
    "                shutil.copyfileobj(readfile, outfile)\n",
    "    gc.collect()"
   ]
  },
  {
   "cell_type": "code",
   "execution_count": 29,
   "metadata": {
    "collapsed": false
   },
   "outputs": [
    {
     "data": {
      "text/plain": [
       "'../saved/rasco/%s_sub%d.libsvm'"
      ]
     },
     "execution_count": 29,
     "metadata": {},
     "output_type": "execute_result"
    }
   ],
   "source": [
    "PATH_SAVE_LIBSVM_FULL"
   ]
  },
  {
   "cell_type": "markdown",
   "metadata": {},
   "source": [
    "# Saving binaries for combined"
   ]
  },
  {
   "cell_type": "code",
   "execution_count": null,
   "metadata": {
    "collapsed": true
   },
   "outputs": [],
   "source": [
    "PATH_LIBSVM = '../saved/rasco/both_sub%d.libsvm'\n",
    "\n",
    "n_subsp = len(glob.glob(PATH_LIBSVM.replace('%d', '%s') % '*'))\n",
    "print n_subsp\n"
   ]
  },
  {
   "cell_type": "code",
   "execution_count": null,
   "metadata": {
    "collapsed": true
   },
   "outputs": [],
   "source": [
    "%%time\n",
    "\n",
    "PATH_SAVE_BIN = '/tmp/both_sub%d.bin'\n",
    "\n",
    "for sub_i in range(n_subsp):\n",
    "    print 'xgb DMatrix binary save for subspace # %d' % sub_i\n",
    "    \n",
    "    d_sub = xgb.DMatrix(PATH_LIBSVM % sub_i)\n",
    "    d_sub.save_binary(PATH_SAVE_BIN % sub_i)\n",
    "    print 'Done:', sub_i\n",
    "\n",
    "    del d_sub\n",
    "    gc.collect()\n"
   ]
  }
 ],
 "metadata": {
  "kernelspec": {
   "display_name": "Python 2",
   "language": "python",
   "name": "python2"
  },
  "language_info": {
   "codemirror_mode": {
    "name": "ipython",
    "version": 2
   },
   "file_extension": ".py",
   "mimetype": "text/x-python",
   "name": "python",
   "nbconvert_exporter": "python",
   "pygments_lexer": "ipython2",
   "version": "2.7.8"
  }
 },
 "nbformat": 4,
 "nbformat_minor": 0
}
