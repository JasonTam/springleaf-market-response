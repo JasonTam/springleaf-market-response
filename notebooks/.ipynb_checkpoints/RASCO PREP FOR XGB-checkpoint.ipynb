{
 "cells": [
  {
   "cell_type": "code",
   "execution_count": 11,
   "metadata": {
    "collapsed": true
   },
   "outputs": [],
   "source": [
    "import pandas as pd\n",
    "import numpy as np\n",
    "import itertools\n",
    "import xgboost as xgb\n",
    "import os\n",
    "import glob\n",
    "\n",
    "from svmlight_loader import dump_svmlight_file, load_svmlight_file\n",
    "# from sklearn.datasets import dump_svmlight_file, load_svmlight_file"
   ]
  },
  {
   "cell_type": "code",
   "execution_count": 2,
   "metadata": {
    "collapsed": false
   },
   "outputs": [],
   "source": [
    "targets_df = pd.read_pickle('../saved/train_targets.p')\n",
    "targets = np.array(targets_df['target'])"
   ]
  },
  {
   "cell_type": "code",
   "execution_count": 3,
   "metadata": {
    "collapsed": false
   },
   "outputs": [
    {
     "name": "stdout",
     "output_type": "stream",
     "text": [
      "# rows: 145175\n",
      "CPU times: user 86.7 ms, sys: 50 ms, total: 137 ms\n",
      "Wall time: 323 ms\n"
     ]
    }
   ],
   "source": [
    "%%time\n",
    "PATH_STORE = '../saved/storage.h5'\n",
    "cols_df = pd.read_hdf(PATH_STORE, 'train', \n",
    "                       where=[\"index==0\"])\n",
    "cols = cols_df.columns.drop('target')\n",
    "\n",
    "store = pd.HDFStore(PATH_STORE)\n",
    "n_rows = store.get_storer('train').nrows\n",
    "store.close()\n",
    "\n",
    "print '# rows: %d' % n_rows"
   ]
  },
  {
   "cell_type": "markdown",
   "metadata": {},
   "source": [
    "# Rasco Params"
   ]
  },
  {
   "cell_type": "code",
   "execution_count": 4,
   "metadata": {
    "collapsed": false
   },
   "outputs": [],
   "source": [
    "feat_ratio = 0.7\n",
    "n_estimators = 5\n",
    "max_iters = 20\n",
    "n_xfer = 10\n",
    "\n",
    "n_feats = len(cols)\n",
    "n_feats_subsp = int(feat_ratio * n_feats)\n"
   ]
  },
  {
   "cell_type": "code",
   "execution_count": 5,
   "metadata": {
    "collapsed": false
   },
   "outputs": [
    {
     "name": "stdout",
     "output_type": "stream",
     "text": [
      "Span factor : 1.0\n"
     ]
    }
   ],
   "source": [
    "np.random.seed(33)\n",
    "sub_sps_inds = [np.random.permutation(n_feats)[:n_feats_subsp]\n",
    "                for _ in range(n_estimators)]\n",
    "\n",
    "span = len(set(itertools.chain(*sub_sps_inds))) / float(n_feats)\n",
    "print 'Span factor :', span\n",
    "\n",
    "sub_sps_cols = [cols[inds] for inds in sub_sps_inds]"
   ]
  },
  {
   "cell_type": "markdown",
   "metadata": {},
   "source": [
    "## Making libsvm and xgb DMatrices for subspaces"
   ]
  },
  {
   "cell_type": "code",
   "execution_count": 6,
   "metadata": {
    "collapsed": false
   },
   "outputs": [
    {
     "name": "stdout",
     "output_type": "stream",
     "text": [
      "Processing subspace # 0\n",
      "Chunk 0 / 8  | Shape: (20000, 1506)\n",
      "Chunk 1 / 8  | Shape: (20000, 1506)\n",
      "Chunk 2 / 8  | Shape: (20000, 1506)\n",
      "Chunk 3 / 8  | Shape: (20000, 1506)\n",
      "Chunk 4 / 8  | Shape: (20000, 1506)\n",
      "Chunk 5 / 8  | Shape: (20000, 1506)\n",
      "Chunk 6 / 8  | Shape: (20000, 1506)\n",
      "Chunk 7 / 8  | Shape: (5175, 1506)\n",
      "Done with subspace # 0\n",
      "CPU times: user 2min 14s, sys: 46.3 s, total: 3min 1s\n",
      "Wall time: 4min 42s\n"
     ]
    }
   ],
   "source": [
    "%%time\n",
    "PATH_SAVE_LIBSVM_PART = '../saved/rasco/train_sub%d_%d.libsvm'  # sub_i and part\n",
    "chunksize = 20000\n",
    "\n",
    "for sub_i, sub_sp_cols in enumerate(sub_sps_cols):\n",
    "    print 'Processing subspace # %d' % sub_i\n",
    "    \n",
    "    for chunk_i in xrange(n_rows//chunksize + 1):\n",
    "        print 'Chunk %d / %d' % (chunk_i, n_rows//chunksize + 1),\n",
    "        \n",
    "        X = pd.read_hdf(PATH_STORE, 'train', columns=sub_sp_cols,\n",
    "                        start=chunk_i*chunksize, stop=(chunk_i+1)*chunksize)\n",
    "        \n",
    "        print ' | Shape:', X.shape\n",
    "        \n",
    "        dump_svmlight_file(\n",
    "            X=X, y=targets[chunk_i*chunksize:chunk_i*chunksize + X.shape[0]], \n",
    "            f=PATH_SAVE_LIBSVM_PART % (sub_i, chunk_i))\n",
    "        \n",
    "        del X\n",
    "    print 'Done with subspace #', sub_i\n",
    "    \n",
    "    break\n"
   ]
  },
  {
   "cell_type": "code",
   "execution_count": 24,
   "metadata": {
    "collapsed": false
   },
   "outputs": [
    {
     "name": "stdout",
     "output_type": "stream",
     "text": [
      "CPU times: user 513 ms, sys: 41.7 s, total: 42.3 s\n",
      "Wall time: 2min 7s\n"
     ]
    }
   ],
   "source": [
    "%%time\n",
    "# Merging libsvm parts\n",
    "PATH_SAVE_LIBSVM_FULL = PATH_SAVE_LIBSVM_PART.rsplit('_', 1)[0] + '.libsvm'\n",
    "\n",
    "for sub_i, sub_sp_cols in enumerate(sub_sps_cols):\n",
    "    \n",
    "    fnames = glob.glob(PATH_SAVE_LIBSVM_PART.rsplit('_', 1)[0] % sub_i + '_*')\n",
    "    \n",
    "    with open(PATH_SAVE_LIBSVM_FULL % sub_i, 'w') as outfile:\n",
    "        for fname in fnames:\n",
    "            with open(fname) as infile:\n",
    "                for line in infile:\n",
    "                    outfile.write(line)\n",
    "                \n",
    "    break\n",
    "    \n",
    "    "
   ]
  },
  {
   "cell_type": "code",
   "execution_count": null,
   "metadata": {
    "collapsed": false
   },
   "outputs": [],
   "source": [
    "%%time\n",
    "PATH_SAVE_BIN = '../saved/rasco/train_sub%d.bin'\n",
    "\n",
    "for sub_i, sub_sp_cols in enumerate(sub_sps_cols):\n",
    "    d_sub = xgb.DMatrix(PATH_SAVE_LIBSVM_FULL % sub_i)\n",
    "    d_sub.save_binary(PATH_SAVE_BIN % sub_i)\n",
    "    print 'Done:', sub_i\n",
    "\n",
    "    break"
   ]
  }
 ],
 "metadata": {
  "kernelspec": {
   "display_name": "Python 2",
   "language": "python",
   "name": "python2"
  },
  "language_info": {
   "codemirror_mode": {
    "name": "ipython",
    "version": 2
   },
   "file_extension": ".py",
   "mimetype": "text/x-python",
   "name": "python",
   "nbconvert_exporter": "python",
   "pygments_lexer": "ipython2",
   "version": "2.7.8"
  }
 },
 "nbformat": 4,
 "nbformat_minor": 0
}
