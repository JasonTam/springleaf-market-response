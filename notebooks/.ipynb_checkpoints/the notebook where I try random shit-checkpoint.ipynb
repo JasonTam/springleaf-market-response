{
 "cells": [
  {
   "cell_type": "code",
   "execution_count": 9,
   "metadata": {
    "collapsed": true
   },
   "outputs": [],
   "source": [
    "import pandas as pd\n",
    "import xgboost as xgb\n",
    "import os\n",
    "import logging\n",
    "import time\n",
    "import cPickle as pickle\n",
    "import numpy as np\n",
    "\n",
    "# from IPython.utils.io import Tee\n",
    "# wtf = Tee('../logs/%s.log' % str(int(time.time())), 'w', channel='stderr')"
   ]
  },
  {
   "cell_type": "code",
   "execution_count": null,
   "metadata": {
    "collapsed": false
   },
   "outputs": [],
   "source": [
    "%%time\n",
    "PATH_STORE = '../saved/storage.h5'\n",
    "train_pd = pd.read_hdf(PATH_STORE, 'train')"
   ]
  },
  {
   "cell_type": "code",
   "execution_count": null,
   "metadata": {
    "collapsed": true
   },
   "outputs": [],
   "source": [
    "%%time\n",
    "# Out-of-memory\n",
    "PATH_LIBSVM = '/tmp/train.libsvm'\n",
    "PATH_CACHE = '/tmp/dtrain.cache'\n",
    "if os.path.exists(PATH_CACHE):\n",
    "    print 'Remove old cache @ %s' % PATH_CACHE\n",
    "    os.remove(PATH_CACHE)\n",
    "    os.remove(PATH_CACHE + '.row.blob')\n",
    "\n",
    "# dtrain = xgb.DMatrix('../saved/med.libsvm#%s' % PATH_CACHE)\n",
    "dtrain = xgb.DMatrix('%s#%s' % (PATH_LIBSVM, PATH_CACHE))"
   ]
  },
  {
   "cell_type": "code",
   "execution_count": 2,
   "metadata": {
    "collapsed": false
   },
   "outputs": [
    {
     "name": "stdout",
     "output_type": "stream",
     "text": [
      "CPU times: user 40.1 s, sys: 1.56 s, total: 41.6 s\n",
      "Wall time: 20.1 s\n"
     ]
    }
   ],
   "source": [
    "%%time\n",
    "# In-memory\n",
    "PATH_LIBSVM = '/tmp/train.libsvm'\n",
    "dtrain = xgb.DMatrix(PATH_LIBSVM)"
   ]
  },
  {
   "cell_type": "code",
   "execution_count": 25,
   "metadata": {
    "collapsed": false
   },
   "outputs": [],
   "source": [
    "params = {}\n",
    "params['objective'] = \"binary:logistic\"\n",
    "params['eta'] = 0.01\n",
    "params['min_child_weight'] = 6\n",
    "params['subsample'] = 0.7\n",
    "params['colsample_bytree'] = 0.7\n",
    "params['max_delta_step'] = 1\n",
    "params['silent'] = 1\n",
    "params['max_depth'] = 9 #7\n",
    "params['eval_metric'] = 'auc'\n",
    "# params[\"scale_pos_weight\"] = 1.0\n",
    "params['gamma'] = 5\n",
    "params['alpha'] = 1\n",
    "# params['nthread'] = 4\n",
    "\n",
    "def fpreproc(dtrain, dtest, param):\n",
    "    label = dtrain.get_label()\n",
    "    ratio = float(np.sum(label == 0)) / np.sum(label==1)\n",
    "    param['scale_pos_weight'] = ratio\n",
    "    return (dtrain, dtest, param)\n",
    "\n",
    "plst = list(params.items())\n",
    "\n",
    "max_rounds = 4000\n"
   ]
  },
  {
   "cell_type": "code",
   "execution_count": null,
   "metadata": {
    "collapsed": false
   },
   "outputs": [],
   "source": [
    "%%time\n",
    "cv_log = xgb.cv(params, dtrain, max_rounds, nfold=3,\n",
    "                metrics={'auc'}, seed = 0,\n",
    "                fpreproc=fpreproc)\n",
    "\n",
    "pickle.dump((params, cv_log), open('../saved/cv_log_%d.p' % int(time.time()), 'wb'))"
   ]
  },
  {
   "cell_type": "code",
   "execution_count": 5,
   "metadata": {
    "collapsed": false
   },
   "outputs": [],
   "source": [
    "y = dtrain.get_label()"
   ]
  },
  {
   "cell_type": "code",
   "execution_count": 6,
   "metadata": {
    "collapsed": false
   },
   "outputs": [
    {
     "data": {
      "text/plain": [
       "Counter({0.0: 111415, 1.0: 33760})"
      ]
     },
     "execution_count": 6,
     "metadata": {},
     "output_type": "execute_result"
    }
   ],
   "source": [
    "from collections import Counter\n",
    "Counter(y)"
   ]
  },
  {
   "cell_type": "code",
   "execution_count": 24,
   "metadata": {
    "collapsed": false,
    "scrolled": false
   },
   "outputs": [
    {
     "name": "stdout",
     "output_type": "stream",
     "text": [
      "[3500]\tcv-test-auc:0.790100+0.001692\tcv-train-auc:0.999698+0.000007\n",
      "[3510]\tcv-test-auc:0.790126+0.001696\tcv-train-auc:0.999705+0.000007\n",
      "[3520]\tcv-test-auc:0.790124+0.001705\tcv-train-auc:0.999711+0.000006\n",
      "[3530]\tcv-test-auc:0.790134+0.001706\tcv-train-auc:0.999717+0.000006\n",
      "[3540]\tcv-test-auc:0.790146+0.001703\tcv-train-auc:0.999721+0.000006\n",
      "[3550]\tcv-test-auc:0.790147+0.001706\tcv-train-auc:0.999727+0.000007\n",
      "[3560]\tcv-test-auc:0.790147+0.001691\tcv-train-auc:0.999733+0.000007\n",
      "[3570]\tcv-test-auc:0.790154+0.001695\tcv-train-auc:0.999737+0.000008\n",
      "[3580]\tcv-test-auc:0.790160+0.001705\tcv-train-auc:0.999743+0.000008\n",
      "[3590]\tcv-test-auc:0.790165+0.001701\tcv-train-auc:0.999748+0.000007\n",
      "[3600]\tcv-test-auc:0.790157+0.001704\tcv-train-auc:0.999753+0.000007\n",
      "[3610]\tcv-test-auc:0.790173+0.001696\tcv-train-auc:0.999758+0.000007\n",
      "[3620]\tcv-test-auc:0.790186+0.001687\tcv-train-auc:0.999763+0.000006\n",
      "[3630]\tcv-test-auc:0.790205+0.001687\tcv-train-auc:0.999767+0.000006\n",
      "[3640]\tcv-test-auc:0.790204+0.001679\tcv-train-auc:0.999772+0.000006\n",
      "[3650]\tcv-test-auc:0.790212+0.001678\tcv-train-auc:0.999777+0.000006\n",
      "[3660]\tcv-test-auc:0.790209+0.001684\tcv-train-auc:0.999781+0.000005\n",
      "[3670]\tcv-test-auc:0.790216+0.001695\tcv-train-auc:0.999786+0.000006\n",
      "[3680]\tcv-test-auc:0.790220+0.001692\tcv-train-auc:0.999791+0.000007\n",
      "[3690]\tcv-test-auc:0.790226+0.001689\tcv-train-auc:0.999795+0.000006\n",
      "[3700]\tcv-test-auc:0.790234+0.001681\tcv-train-auc:0.999799+0.000006\n",
      "[3710]\tcv-test-auc:0.790228+0.001677\tcv-train-auc:0.999803+0.000006\n",
      "[3720]\tcv-test-auc:0.790231+0.001675\tcv-train-auc:0.999806+0.000007\n",
      "[3730]\tcv-test-auc:0.790243+0.001665\tcv-train-auc:0.999810+0.000007\n",
      "[3740]\tcv-test-auc:0.790240+0.001657\tcv-train-auc:0.999815+0.000007\n",
      "[3750]\tcv-test-auc:0.790253+0.001653\tcv-train-auc:0.999818+0.000007\n",
      "[3760]\tcv-test-auc:0.790264+0.001649\tcv-train-auc:0.999822+0.000007\n",
      "[3770]\tcv-test-auc:0.790262+0.001646\tcv-train-auc:0.999825+0.000006\n",
      "[3780]\tcv-test-auc:0.790280+0.001631\tcv-train-auc:0.999829+0.000006\n",
      "[3790]\tcv-test-auc:0.790277+0.001625\tcv-train-auc:0.999832+0.000006\n",
      "[3800]\tcv-test-auc:0.790278+0.001619\tcv-train-auc:0.999834+0.000006\n",
      "[3810]\tcv-test-auc:0.790276+0.001620\tcv-train-auc:0.999837+0.000006\n",
      "[3820]\tcv-test-auc:0.790270+0.001624\tcv-train-auc:0.999840+0.000006\n",
      "[3830]\tcv-test-auc:0.790272+0.001630\tcv-train-auc:0.999843+0.000006\n",
      "[3840]\tcv-test-auc:0.790265+0.001632\tcv-train-auc:0.999846+0.000006\n",
      "[3850]\tcv-test-auc:0.790265+0.001652\tcv-train-auc:0.999848+0.000007\n",
      "[3860]\tcv-test-auc:0.790268+0.001657\tcv-train-auc:0.999850+0.000006\n",
      "[3870]\tcv-test-auc:0.790267+0.001655\tcv-train-auc:0.999853+0.000006\n",
      "[3880]\tcv-test-auc:0.790267+0.001645\tcv-train-auc:0.999856+0.000006\n",
      "[3890]\tcv-test-auc:0.790265+0.001649\tcv-train-auc:0.999859+0.000006\n",
      "[3900]\tcv-test-auc:0.790274+0.001642\tcv-train-auc:0.999861+0.000006\n",
      "[3910]\tcv-test-auc:0.790264+0.001627\tcv-train-auc:0.999864+0.000006\n",
      "[3920]\tcv-test-auc:0.790260+0.001622\tcv-train-auc:0.999866+0.000006\n",
      "[3930]\tcv-test-auc:0.790271+0.001619\tcv-train-auc:0.999868+0.000006\n",
      "[3940]\tcv-test-auc:0.790267+0.001620\tcv-train-auc:0.999871+0.000005\n",
      "[3950]\tcv-test-auc:0.790273+0.001623\tcv-train-auc:0.999873+0.000005\n",
      "[3960]\tcv-test-auc:0.790272+0.001625\tcv-train-auc:0.999876+0.000005\n",
      "[3970]\tcv-test-auc:0.790268+0.001629\tcv-train-auc:0.999878+0.000006\n",
      "[3980]\tcv-test-auc:0.790263+0.001630\tcv-train-auc:0.999881+0.000005\n",
      "[3990]\tcv-test-auc:0.790261+0.001608\tcv-train-auc:0.999883+0.000005\n"
     ]
    }
   ],
   "source": [
    "for l in cv_log[-500::10]:\n",
    "    print l"
   ]
  },
  {
   "cell_type": "markdown",
   "metadata": {},
   "source": [
    "# Train on whole set"
   ]
  },
  {
   "cell_type": "code",
   "execution_count": null,
   "metadata": {
    "collapsed": false
   },
   "outputs": [],
   "source": [
    "bst = xgb.train(params, dtrain, max_rounds)\n",
    "bst.save_model('%d.model' % int(time.time()))"
   ]
  },
  {
   "cell_type": "markdown",
   "metadata": {},
   "source": [
    "# Predict"
   ]
  },
  {
   "cell_type": "code",
   "execution_count": 30,
   "metadata": {
    "collapsed": false
   },
   "outputs": [],
   "source": [
    "# In-memory\n",
    "PATH_TEST_LIBSVM = '/tmp/test.libsvm'\n",
    "dtest = xgb.DMatrix(PATH_TEST_LIBSVM)"
   ]
  },
  {
   "cell_type": "code",
   "execution_count": 31,
   "metadata": {
    "collapsed": true
   },
   "outputs": [],
   "source": [
    "preds = bst.predict(dtest)"
   ]
  },
  {
   "cell_type": "markdown",
   "metadata": {},
   "source": [
    "# Create submission"
   ]
  },
  {
   "cell_type": "code",
   "execution_count": 38,
   "metadata": {
    "collapsed": false
   },
   "outputs": [],
   "source": [
    "sub = pd.read_csv('../data/sample_submission.csv', index_col='ID')\n",
    "sub['target'] = preds\n",
    "sub.to_csv('../submissions/xgb_vanilla.csv')"
   ]
  }
 ],
 "metadata": {
  "kernelspec": {
   "display_name": "Python 2",
   "language": "python",
   "name": "python2"
  },
  "language_info": {
   "codemirror_mode": {
    "name": "ipython",
    "version": 2
   },
   "file_extension": ".py",
   "mimetype": "text/x-python",
   "name": "python",
   "nbconvert_exporter": "python",
   "pygments_lexer": "ipython2",
   "version": "2.7.8"
  }
 },
 "nbformat": 4,
 "nbformat_minor": 0
}
