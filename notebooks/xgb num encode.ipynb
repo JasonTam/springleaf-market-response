{
 "cells": [
  {
   "cell_type": "code",
   "execution_count": null,
   "metadata": {
    "collapsed": false
   },
   "outputs": [],
   "source": [
    "import pandas as pd\n",
    "import numpy as np\n",
    "import xgboost as xgb\n",
    "import os\n",
    "import glob\n",
    "import cPickle as pickle\n",
    "from collections import Counter\n",
    "from time import time\n",
    "\n",
    "from sklearn.cross_validation import StratifiedKFold, StratifiedShuffleSplit\n",
    "\n",
    "import gc\n",
    "\n"
   ]
  },
  {
   "cell_type": "code",
   "execution_count": null,
   "metadata": {
    "collapsed": false
   },
   "outputs": [],
   "source": [
    "flag_cols = pickle.load(open('../saved/flags_columns.p', 'rb'))\n",
    "flag_cols_base = {col.rsplit('_', 1)[0] for col in flag_cols}\n",
    "saved_enc = {os.path.splitext(os.path.basename(p))[0]\n",
    "     for p in glob.glob('../saved/stupid_encode/VAR*.npy')}\n",
    "flag_cols_base = flag_cols_base - saved_enc"
   ]
  },
  {
   "cell_type": "code",
   "execution_count": null,
   "metadata": {
    "collapsed": true
   },
   "outputs": [],
   "source": [
    "params = {}\n",
    "params['objective'] = \"binary:logistic\"\n",
    "params['eta'] = 0.1\n",
    "params['min_child_weight'] = 6\n",
    "params['subsample'] = 0.7\n",
    "params['colsample_bytree'] = 1.0\n",
    "# params['max_delta_step'] = 1\n",
    "params['silent'] = 1\n",
    "params['max_depth'] = 3 #7\n",
    "params['eval_metric'] = 'auc'\n",
    "\n",
    "def fpreproc(dtrain, dtest, param):\n",
    "    label = dtrain.get_label()\n",
    "    ratio = float(np.sum(label == 0)) / np.sum(label==1)\n",
    "    param['scale_pos_weight'] = ratio\n",
    "    return (dtrain, dtest, param)\n",
    "\n",
    "plst = list(params.items())\n",
    "\n",
    "max_rounds = 50"
   ]
  },
  {
   "cell_type": "code",
   "execution_count": null,
   "metadata": {
    "collapsed": false
   },
   "outputs": [],
   "source": [
    "PATH_STORE = '../saved/storage.h5'\n",
    "mode = 'train'\n",
    "\n",
    "# col_to_enc = flag_cols_base[0]\n",
    "\n",
    "for col_ii, col_to_enc in enumerate(flag_cols_base):\n",
    "    tic = time()\n",
    "    print '%d/%d' % (col_ii, len(flag_cols_base)),\n",
    "    \n",
    "    columns = [col_to_enc] + ['target']\n",
    "    df = pd.read_hdf(PATH_STORE, mode, columns=columns)\n",
    "    print col_to_enc, \n",
    "    \n",
    "    # Setting up the rows used for encoding and the rows to hold out\n",
    "    x_train = df[col_to_enc][:, None]\n",
    "    y_train = np.array(df.target)\n",
    "    del(df)\n",
    "    \n",
    "    if os.path.exists('../saved/stupid_encode/enc_ind.npy'):\n",
    "        enc_ind = np.load('../saved/stupid_encode/enc_ind.npy')\n",
    "        val_ind = np.load('../saved/stupid_encode/val_ind.npy')\n",
    "    else:\n",
    "        enc_ind, val_ind = iter(StratifiedShuffleSplit(y_train, random_state=322)).next()\n",
    "        np.save('../saved/stupid_encode/enc_ind.npy', enc_ind)\n",
    "        np.save('../saved/stupid_encode/val_ind.npy', val_ind)\n",
    "        \n",
    "    denc = xgb.DMatrix(data=x_train[enc_ind], label=y_train[enc_ind])\n",
    "    dval = xgb.DMatrix(data=x_train[val_ind], label=y_train[val_ind])\n",
    "    \n",
    "    # Train encoding xgboost model\n",
    "    watchlist = [(denc, 'train'),(dval, 'val')]\n",
    "    bst = xgb.train(params, denc, max_rounds, evals=watchlist, early_stopping_rounds=20, verbose_eval=False)\n",
    "    bst.save_model('../saved/stupid_encode/%s.model' % col_to_enc)\n",
    "    \n",
    "    # Predict (encode)\n",
    "    dall = xgb.DMatrix(x_train)\n",
    "    encoded = bst.predict(dall, ntree_limit=bst.best_iteration)\n",
    "    np.save('../saved/stupid_encode/%s.npy' % col_to_enc, encoded)\n",
    "    \n",
    "    print 'Time: %g' % (time() - tic)\n",
    "    \n",
    "    del(x_train)\n",
    "    del(y_train)\n",
    "    del(denc)\n",
    "    del(dval)\n",
    "    del(dall)\n",
    "    gc.collect()\n",
    "#     break"
   ]
  },
  {
   "cell_type": "markdown",
   "metadata": {
    "collapsed": false
   },
   "source": [
    "# The mass conversion"
   ]
  },
  {
   "cell_type": "code",
   "execution_count": null,
   "metadata": {
    "collapsed": false
   },
   "outputs": [],
   "source": [
    "%%time\n",
    "\n",
    "PATH_STORE = '../saved/storage.h5'\n",
    "# mode = 'train'\n",
    "mode = 'test'\n",
    "\n",
    "df = pd.read_hdf(PATH_STORE, mode)\n",
    "print df.shape"
   ]
  },
  {
   "cell_type": "code",
   "execution_count": null,
   "metadata": {
    "collapsed": false
   },
   "outputs": [],
   "source": [
    "%%time\n",
    "\n",
    "if mode == 'train':\n",
    "    for col in saved_enc:\n",
    "        loaded = np.load('../saved/stupid_encode/%s.npy' % col)\n",
    "        df[col] = loaded\n",
    "        gc.collect()\n",
    "elif mode == 'test':\n",
    "    for ii, col in enumerate(saved_enc):\n",
    "        tic = time()\n",
    "        print ii,\n",
    "        encoder = xgb.Booster(model_file='../saved/stupid_encode/%s.model' % col)\n",
    "        dm = xgb.DMatrix(df[col][:, None])\n",
    "        df[col] = encoder.predict(dm)\n",
    "        gc.collect()\n",
    "        \n",
    "#         print '%d sec' % (time() - tic),\n",
    "    \n",
    "print df.shape"
   ]
  },
  {
   "cell_type": "code",
   "execution_count": null,
   "metadata": {
    "collapsed": true
   },
   "outputs": [],
   "source": [
    "with open('/tmp/xgbenclog.log', 'w') as f:\n",
    "    f.write(str(df.shape))"
   ]
  },
  {
   "cell_type": "code",
   "execution_count": null,
   "metadata": {
    "collapsed": false
   },
   "outputs": [],
   "source": [
    "%%time\n",
    "# HDF5\n",
    "# with pd.get_store('../saved/storage_xgbenc.h5') as store:\n",
    "with pd.get_store('/tmp/storage_xgbenc.h5') as store:\n",
    "    store.put(mode, df, format='table')"
   ]
  },
  {
   "cell_type": "code",
   "execution_count": null,
   "metadata": {
    "collapsed": false
   },
   "outputs": [],
   "source": [
    "print df.shape"
   ]
  },
  {
   "cell_type": "markdown",
   "metadata": {},
   "source": [
    "### Convert to libsvm"
   ]
  },
  {
   "cell_type": "code",
   "execution_count": 1,
   "metadata": {
    "collapsed": false
   },
   "outputs": [
    {
     "name": "stdout",
     "output_type": "stream",
     "text": [
      "(145232, 2152)\n",
      "CPU times: user 6.87 s, sys: 2.24 s, total: 9.11 s\n",
      "Wall time: 27.5 s\n"
     ]
    }
   ],
   "source": [
    "%%time\n",
    "import pandas as pd\n",
    "import numpy as np\n",
    "# libsvm\n",
    "# mode = 'train'\n",
    "mode = 'test'\n",
    "\n",
    "# df = pd.read_hdf('../saved/storage_xgbenc.h5', mode)\n",
    "df = pd.read_hdf('/tmp/storage_xgbenc.h5', mode)\n",
    "\n",
    "print df.shape"
   ]
  },
  {
   "cell_type": "code",
   "execution_count": 4,
   "metadata": {
    "collapsed": false
   },
   "outputs": [],
   "source": [
    "df.fillna(0, inplace=True)\n",
    "if mode == 'train':\n",
    "    labels = df['target']\n",
    "    df.drop(['target'], axis=1, inplace=True)\n",
    "else:\n",
    "    labels = np.zeros(len(df))"
   ]
  },
  {
   "cell_type": "code",
   "execution_count": null,
   "metadata": {
    "collapsed": false
   },
   "outputs": [],
   "source": [
    "%%time\n",
    "PATH_SAVE_LIBSVM = '/tmp/%s_xgbenc.libsvm' % mode\n",
    "\n",
    "from sklearn.datasets import dump_svmlight_file, load_svmlight_file\n",
    "# from svmlight_loader import dump_svmlight_file, load_svmlight_file\n",
    "\n",
    "dump_svmlight_file(X=df, y=labels,\n",
    "                  f=PATH_SAVE_LIBSVM)"
   ]
  },
  {
   "cell_type": "markdown",
   "metadata": {},
   "source": [
    "# Scratch"
   ]
  },
  {
   "cell_type": "code",
   "execution_count": null,
   "metadata": {
    "collapsed": false
   },
   "outputs": [],
   "source": [
    "enc_ind = np.load('../saved/stupid_encode/enc_ind.npy')\n",
    "val_ind = np.load('../saved/stupid_encode/val_ind.npy')\n",
    "print enc_ind.shape\n",
    "print val_ind.shape\n",
    "\n",
    "loaded = np.load('../saved/stupid_encode/VAR_0002.npy')\n",
    "print loaded.shape"
   ]
  },
  {
   "cell_type": "code",
   "execution_count": null,
   "metadata": {
    "collapsed": false
   },
   "outputs": [],
   "source": [
    "print df.shape"
   ]
  },
  {
   "cell_type": "code",
   "execution_count": null,
   "metadata": {
    "collapsed": false
   },
   "outputs": [],
   "source": [
    "gc.collect()"
   ]
  }
 ],
 "metadata": {
  "kernelspec": {
   "display_name": "Python 2",
   "language": "python",
   "name": "python2"
  },
  "language_info": {
   "codemirror_mode": {
    "name": "ipython",
    "version": 2
   },
   "file_extension": ".py",
   "mimetype": "text/x-python",
   "name": "python",
   "nbconvert_exporter": "python",
   "pygments_lexer": "ipython2",
   "version": "2.7.8"
  }
 },
 "nbformat": 4,
 "nbformat_minor": 0
}
